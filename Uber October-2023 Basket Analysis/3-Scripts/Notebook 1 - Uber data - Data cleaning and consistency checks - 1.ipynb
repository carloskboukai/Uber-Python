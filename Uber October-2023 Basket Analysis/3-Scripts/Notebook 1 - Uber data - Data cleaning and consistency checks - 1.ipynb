{
 "cells": [
  {
   "cell_type": "markdown",
   "id": "8c504553",
   "metadata": {},
   "source": [
    "This notebook contains the initial steps taken for data quality check and consistency of the 'Uber dataset'.\n",
    "\n",
    "1. Checking shape and data types\n",
    "\n",
    "2. Looking for missing values\n",
    "\n",
    "3. Looking for missing data\n",
    "\n",
    "4. Dealing with negative values\n",
    "\n",
    "5. Changing data types in some columns\n",
    "\n",
    "6. Locating outliers"
   ]
  },
  {
   "cell_type": "code",
   "execution_count": 1,
   "id": "2ad3815c",
   "metadata": {},
   "outputs": [],
   "source": [
    "# Importing Analitycal and Visual libraries\n",
    "import pandas as pd\n",
    "import numpy as np\n",
    "import os\n",
    "import matplotlib.pyplot as plt\n",
    "import seaborn as sns\n",
    "import scipy"
   ]
  },
  {
   "cell_type": "markdown",
   "id": "5ac3d3b1",
   "metadata": {},
   "source": [
    "Creating a path to import and work on data set"
   ]
  },
  {
   "cell_type": "code",
   "execution_count": 2,
   "id": "0ea223dd",
   "metadata": {},
   "outputs": [],
   "source": [
    "path = r'C:\\Users\\Paola\\Desktop\\Shaul\\Data\\CF\\Data Immersion\\Achievement 6\\Uber October-2023 Basket Analysis'"
   ]
  },
  {
   "cell_type": "code",
   "execution_count": 3,
   "id": "01d46e70",
   "metadata": {},
   "outputs": [
    {
     "data": {
      "text/plain": [
       "'C:\\\\Users\\\\Paola\\\\Desktop\\\\Shaul\\\\Data\\\\CF\\\\Data Immersion\\\\Achievement 6\\\\Uber October-2023 Basket Analysis'"
      ]
     },
     "execution_count": 3,
     "metadata": {},
     "output_type": "execute_result"
    }
   ],
   "source": [
    "path"
   ]
  },
  {
   "cell_type": "markdown",
   "id": "ac331e3b",
   "metadata": {},
   "source": [
    "Importing Uber data set"
   ]
  },
  {
   "cell_type": "code",
   "execution_count": 4,
   "id": "dc8906bf",
   "metadata": {},
   "outputs": [],
   "source": [
    "df = pd.read_csv(os.path.join(path, '2-Data', 'Original Data', 'uber_data_wrangled.csv'), index_col = False)"
   ]
  },
  {
   "cell_type": "markdown",
   "id": "1aa8a789",
   "metadata": {},
   "source": [
    "Checking shape and columns"
   ]
  },
  {
   "cell_type": "code",
   "execution_count": 5,
   "id": "7c8953a7",
   "metadata": {},
   "outputs": [
    {
     "data": {
      "text/plain": [
       "(100000, 21)"
      ]
     },
     "execution_count": 5,
     "metadata": {},
     "output_type": "execute_result"
    }
   ],
   "source": [
    "df.shape"
   ]
  },
  {
   "cell_type": "code",
   "execution_count": 6,
   "id": "0aa76616",
   "metadata": {},
   "outputs": [
    {
     "data": {
      "text/plain": [
       "Index(['VendorID', 'pickup_date', 'pickup_time', 'dropff_date', 'dropoff_time',\n",
       "       'passenger_count', 'trip_distance', 'pickup_longitude',\n",
       "       'pickup_latitude', 'RatecodeID', 'store_and_fwd_flag',\n",
       "       'dropoff_longitude', 'dropoff_latitude', 'payment_type', 'fare_amount',\n",
       "       'extra', 'mta_tax', 'tip_amount', 'tolls_amount',\n",
       "       'improvement_surcharge', 'total_amount'],\n",
       "      dtype='object')"
      ]
     },
     "execution_count": 6,
     "metadata": {},
     "output_type": "execute_result"
    }
   ],
   "source": [
    "df.columns"
   ]
  },
  {
   "cell_type": "code",
   "execution_count": 7,
   "id": "1cbd985d",
   "metadata": {},
   "outputs": [
    {
     "name": "stdout",
     "output_type": "stream",
     "text": [
      "<class 'pandas.core.frame.DataFrame'>\n",
      "RangeIndex: 100000 entries, 0 to 99999\n",
      "Data columns (total 21 columns):\n",
      " #   Column                 Non-Null Count   Dtype  \n",
      "---  ------                 --------------   -----  \n",
      " 0   VendorID               100000 non-null  int64  \n",
      " 1   pickup_date            100000 non-null  object \n",
      " 2   pickup_time            100000 non-null  object \n",
      " 3   dropff_date            100000 non-null  object \n",
      " 4   dropoff_time           100000 non-null  object \n",
      " 5   passenger_count        100000 non-null  int64  \n",
      " 6   trip_distance          100000 non-null  float64\n",
      " 7   pickup_longitude       100000 non-null  float64\n",
      " 8   pickup_latitude        100000 non-null  float64\n",
      " 9   RatecodeID             100000 non-null  int64  \n",
      " 10  store_and_fwd_flag     100000 non-null  object \n",
      " 11  dropoff_longitude      100000 non-null  float64\n",
      " 12  dropoff_latitude       100000 non-null  float64\n",
      " 13  payment_type           100000 non-null  int64  \n",
      " 14  fare_amount            100000 non-null  float64\n",
      " 15  extra                  100000 non-null  float64\n",
      " 16  mta_tax                100000 non-null  float64\n",
      " 17  tip_amount             100000 non-null  float64\n",
      " 18  tolls_amount           100000 non-null  float64\n",
      " 19  improvement_surcharge  100000 non-null  float64\n",
      " 20  total_amount           100000 non-null  float64\n",
      "dtypes: float64(12), int64(4), object(5)\n",
      "memory usage: 16.0+ MB\n"
     ]
    }
   ],
   "source": [
    "df.info()"
   ]
  },
  {
   "cell_type": "markdown",
   "id": "f9f23c5c",
   "metadata": {},
   "source": [
    "Addressing data quality, consistency and initial preparation"
   ]
  },
  {
   "cell_type": "code",
   "execution_count": 8,
   "id": "07325364",
   "metadata": {},
   "outputs": [
    {
     "data": {
      "text/plain": [
       "VendorID                 0\n",
       "pickup_date              0\n",
       "pickup_time              0\n",
       "dropff_date              0\n",
       "dropoff_time             0\n",
       "passenger_count          0\n",
       "trip_distance            0\n",
       "pickup_longitude         0\n",
       "pickup_latitude          0\n",
       "RatecodeID               0\n",
       "store_and_fwd_flag       0\n",
       "dropoff_longitude        0\n",
       "dropoff_latitude         0\n",
       "payment_type             0\n",
       "fare_amount              0\n",
       "extra                    0\n",
       "mta_tax                  0\n",
       "tip_amount               0\n",
       "tolls_amount             0\n",
       "improvement_surcharge    0\n",
       "total_amount             0\n",
       "dtype: int64"
      ]
     },
     "execution_count": 8,
     "metadata": {},
     "output_type": "execute_result"
    }
   ],
   "source": [
    "# Viewing the missing values\n",
    "df.isnull().sum()"
   ]
  },
  {
   "cell_type": "markdown",
   "id": "5d6ea559",
   "metadata": {},
   "source": [
    "No missing data."
   ]
  },
  {
   "cell_type": "code",
   "execution_count": 9,
   "id": "726e0d8b",
   "metadata": {},
   "outputs": [],
   "source": [
    "# Finding duplicates\n",
    "df_dups = df[df.duplicated()]"
   ]
  },
  {
   "cell_type": "code",
   "execution_count": 10,
   "id": "a31a58cd",
   "metadata": {},
   "outputs": [
    {
     "data": {
      "text/plain": [
       "(0, 21)"
      ]
     },
     "execution_count": 10,
     "metadata": {},
     "output_type": "execute_result"
    }
   ],
   "source": [
    "df_dups.shape"
   ]
  },
  {
   "cell_type": "markdown",
   "id": "a914357d",
   "metadata": {},
   "source": [
    "No duplicates in this data set."
   ]
  },
  {
   "cell_type": "code",
   "execution_count": 10,
   "id": "f9f623ee",
   "metadata": {},
   "outputs": [],
   "source": [
    "# Checking df for mixing data\n",
    "for col in df.columns.tolist():\n",
    "  weird = (df[[col]].applymap(type) != df[[col]].iloc[0].apply(type)).any(axis = 1)\n",
    "  if len (df[weird]) > 0:\n",
    "    print (col)"
   ]
  },
  {
   "cell_type": "markdown",
   "id": "6f6a9c64",
   "metadata": {},
   "source": [
    "No mixed data in this data set."
   ]
  },
  {
   "cell_type": "code",
   "execution_count": 44,
   "id": "671bd9f5",
   "metadata": {},
   "outputs": [
    {
     "data": {
      "text/html": [
       "<div>\n",
       "<style scoped>\n",
       "    .dataframe tbody tr th:only-of-type {\n",
       "        vertical-align: middle;\n",
       "    }\n",
       "\n",
       "    .dataframe tbody tr th {\n",
       "        vertical-align: top;\n",
       "    }\n",
       "\n",
       "    .dataframe thead th {\n",
       "        text-align: right;\n",
       "    }\n",
       "</style>\n",
       "<table border=\"1\" class=\"dataframe\">\n",
       "  <thead>\n",
       "    <tr style=\"text-align: right;\">\n",
       "      <th></th>\n",
       "      <th>trip_distance</th>\n",
       "      <th>pickup_longitude</th>\n",
       "      <th>pickup_latitude</th>\n",
       "      <th>dropoff_longitude</th>\n",
       "      <th>dropoff_latitude</th>\n",
       "      <th>fare_amount</th>\n",
       "      <th>extra</th>\n",
       "      <th>mta_tax</th>\n",
       "      <th>tip_amount</th>\n",
       "      <th>tolls_amount</th>\n",
       "      <th>improvement_surcharge</th>\n",
       "      <th>total_amount</th>\n",
       "    </tr>\n",
       "  </thead>\n",
       "  <tbody>\n",
       "    <tr>\n",
       "      <th>count</th>\n",
       "      <td>100000.000000</td>\n",
       "      <td>100000.000000</td>\n",
       "      <td>100000.000000</td>\n",
       "      <td>100000.000000</td>\n",
       "      <td>100000.000000</td>\n",
       "      <td>100000.000000</td>\n",
       "      <td>100000.000000</td>\n",
       "      <td>100000.000000</td>\n",
       "      <td>100000.000000</td>\n",
       "      <td>100000.000000</td>\n",
       "      <td>100000.000000</td>\n",
       "      <td>100000.000000</td>\n",
       "    </tr>\n",
       "    <tr>\n",
       "      <th>mean</th>\n",
       "      <td>3.034270</td>\n",
       "      <td>-73.288983</td>\n",
       "      <td>40.375220</td>\n",
       "      <td>-73.312418</td>\n",
       "      <td>40.388064</td>\n",
       "      <td>13.265219</td>\n",
       "      <td>0.101809</td>\n",
       "      <td>0.497658</td>\n",
       "      <td>1.872670</td>\n",
       "      <td>0.367415</td>\n",
       "      <td>0.299916</td>\n",
       "      <td>16.406226</td>\n",
       "    </tr>\n",
       "    <tr>\n",
       "      <th>std</th>\n",
       "      <td>3.846951</td>\n",
       "      <td>7.089652</td>\n",
       "      <td>3.901413</td>\n",
       "      <td>6.964171</td>\n",
       "      <td>3.833974</td>\n",
       "      <td>11.674715</td>\n",
       "      <td>0.201996</td>\n",
       "      <td>0.034125</td>\n",
       "      <td>2.618513</td>\n",
       "      <td>1.527758</td>\n",
       "      <td>0.005019</td>\n",
       "      <td>14.424392</td>\n",
       "    </tr>\n",
       "    <tr>\n",
       "      <th>min</th>\n",
       "      <td>0.000000</td>\n",
       "      <td>-121.933327</td>\n",
       "      <td>0.000000</td>\n",
       "      <td>-121.933327</td>\n",
       "      <td>0.000000</td>\n",
       "      <td>0.000000</td>\n",
       "      <td>0.000000</td>\n",
       "      <td>0.000000</td>\n",
       "      <td>0.000000</td>\n",
       "      <td>0.000000</td>\n",
       "      <td>0.000000</td>\n",
       "      <td>0.000000</td>\n",
       "    </tr>\n",
       "    <tr>\n",
       "      <th>25%</th>\n",
       "      <td>0.990000</td>\n",
       "      <td>-73.990959</td>\n",
       "      <td>40.738891</td>\n",
       "      <td>-73.990547</td>\n",
       "      <td>40.738541</td>\n",
       "      <td>6.500000</td>\n",
       "      <td>0.000000</td>\n",
       "      <td>0.500000</td>\n",
       "      <td>0.000000</td>\n",
       "      <td>0.000000</td>\n",
       "      <td>0.300000</td>\n",
       "      <td>8.300000</td>\n",
       "    </tr>\n",
       "    <tr>\n",
       "      <th>50%</th>\n",
       "      <td>1.670000</td>\n",
       "      <td>-73.980202</td>\n",
       "      <td>40.755299</td>\n",
       "      <td>-73.978416</td>\n",
       "      <td>40.755079</td>\n",
       "      <td>9.500000</td>\n",
       "      <td>0.000000</td>\n",
       "      <td>0.500000</td>\n",
       "      <td>1.360000</td>\n",
       "      <td>0.000000</td>\n",
       "      <td>0.300000</td>\n",
       "      <td>11.800000</td>\n",
       "    </tr>\n",
       "    <tr>\n",
       "      <th>75%</th>\n",
       "      <td>3.200000</td>\n",
       "      <td>-73.964203</td>\n",
       "      <td>40.769021</td>\n",
       "      <td>-73.962090</td>\n",
       "      <td>40.767910</td>\n",
       "      <td>15.000000</td>\n",
       "      <td>0.000000</td>\n",
       "      <td>0.500000</td>\n",
       "      <td>2.460000</td>\n",
       "      <td>0.000000</td>\n",
       "      <td>0.300000</td>\n",
       "      <td>18.300000</td>\n",
       "    </tr>\n",
       "    <tr>\n",
       "      <th>max</th>\n",
       "      <td>184.400000</td>\n",
       "      <td>0.000000</td>\n",
       "      <td>41.204548</td>\n",
       "      <td>0.000000</td>\n",
       "      <td>42.666893</td>\n",
       "      <td>819.500000</td>\n",
       "      <td>4.500000</td>\n",
       "      <td>0.500000</td>\n",
       "      <td>125.880000</td>\n",
       "      <td>25.540000</td>\n",
       "      <td>0.300000</td>\n",
       "      <td>832.800000</td>\n",
       "    </tr>\n",
       "  </tbody>\n",
       "</table>\n",
       "</div>"
      ],
      "text/plain": [
       "       trip_distance  pickup_longitude  pickup_latitude  dropoff_longitude  \\\n",
       "count  100000.000000     100000.000000    100000.000000      100000.000000   \n",
       "mean        3.034270        -73.288983        40.375220         -73.312418   \n",
       "std         3.846951          7.089652         3.901413           6.964171   \n",
       "min         0.000000       -121.933327         0.000000        -121.933327   \n",
       "25%         0.990000        -73.990959        40.738891         -73.990547   \n",
       "50%         1.670000        -73.980202        40.755299         -73.978416   \n",
       "75%         3.200000        -73.964203        40.769021         -73.962090   \n",
       "max       184.400000          0.000000        41.204548           0.000000   \n",
       "\n",
       "       dropoff_latitude    fare_amount          extra        mta_tax  \\\n",
       "count     100000.000000  100000.000000  100000.000000  100000.000000   \n",
       "mean          40.388064      13.265219       0.101809       0.497658   \n",
       "std            3.833974      11.674715       0.201996       0.034125   \n",
       "min            0.000000       0.000000       0.000000       0.000000   \n",
       "25%           40.738541       6.500000       0.000000       0.500000   \n",
       "50%           40.755079       9.500000       0.000000       0.500000   \n",
       "75%           40.767910      15.000000       0.000000       0.500000   \n",
       "max           42.666893     819.500000       4.500000       0.500000   \n",
       "\n",
       "          tip_amount   tolls_amount  improvement_surcharge   total_amount  \n",
       "count  100000.000000  100000.000000          100000.000000  100000.000000  \n",
       "mean        1.872670       0.367415               0.299916      16.406226  \n",
       "std         2.618513       1.527758               0.005019      14.424392  \n",
       "min         0.000000       0.000000               0.000000       0.000000  \n",
       "25%         0.000000       0.000000               0.300000       8.300000  \n",
       "50%         1.360000       0.000000               0.300000      11.800000  \n",
       "75%         2.460000       0.000000               0.300000      18.300000  \n",
       "max       125.880000      25.540000               0.300000     832.800000  "
      ]
     },
     "execution_count": 44,
     "metadata": {},
     "output_type": "execute_result"
    }
   ],
   "source": [
    "# This command has been repeated a few times, to check that replacement with mean value was succesful.\n",
    "df.describe()"
   ]
  },
  {
   "cell_type": "markdown",
   "id": "55c8c405",
   "metadata": {},
   "source": [
    "There seems to be issues with some inconsistency in the entries. There are many outliers as well as negative amounts in the 'fare_amount' column. Also, some of the columns have numeric values, but they represent options, not values."
   ]
  },
  {
   "cell_type": "markdown",
   "id": "c5bc5ee9",
   "metadata": {},
   "source": [
    "Dealing with the negative values."
   ]
  },
  {
   "cell_type": "code",
   "execution_count": 40,
   "id": "6a4c790c",
   "metadata": {},
   "outputs": [
    {
     "data": {
      "text/html": [
       "<div>\n",
       "<style scoped>\n",
       "    .dataframe tbody tr th:only-of-type {\n",
       "        vertical-align: middle;\n",
       "    }\n",
       "\n",
       "    .dataframe tbody tr th {\n",
       "        vertical-align: top;\n",
       "    }\n",
       "\n",
       "    .dataframe thead th {\n",
       "        text-align: right;\n",
       "    }\n",
       "</style>\n",
       "<table border=\"1\" class=\"dataframe\">\n",
       "  <thead>\n",
       "    <tr style=\"text-align: right;\">\n",
       "      <th></th>\n",
       "      <th>VendorID</th>\n",
       "      <th>pickup_date</th>\n",
       "      <th>pickup_time</th>\n",
       "      <th>dropff_date</th>\n",
       "      <th>dropoff_time</th>\n",
       "      <th>passenger_count</th>\n",
       "      <th>trip_distance</th>\n",
       "      <th>pickup_longitude</th>\n",
       "      <th>pickup_latitude</th>\n",
       "      <th>RatecodeID</th>\n",
       "      <th>...</th>\n",
       "      <th>dropoff_longitude</th>\n",
       "      <th>dropoff_latitude</th>\n",
       "      <th>payment_type</th>\n",
       "      <th>fare_amount</th>\n",
       "      <th>extra</th>\n",
       "      <th>mta_tax</th>\n",
       "      <th>tip_amount</th>\n",
       "      <th>tolls_amount</th>\n",
       "      <th>improvement_surcharge</th>\n",
       "      <th>total_amount</th>\n",
       "    </tr>\n",
       "  </thead>\n",
       "  <tbody>\n",
       "  </tbody>\n",
       "</table>\n",
       "<p>0 rows × 21 columns</p>\n",
       "</div>"
      ],
      "text/plain": [
       "Empty DataFrame\n",
       "Columns: [VendorID, pickup_date, pickup_time, dropff_date, dropoff_time, passenger_count, trip_distance, pickup_longitude, pickup_latitude, RatecodeID, store_and_fwd_flag, dropoff_longitude, dropoff_latitude, payment_type, fare_amount, extra, mta_tax, tip_amount, tolls_amount, improvement_surcharge, total_amount]\n",
       "Index: []\n",
       "\n",
       "[0 rows x 21 columns]"
      ]
     },
     "execution_count": 40,
     "metadata": {},
     "output_type": "execute_result"
    }
   ],
   "source": [
    "# Checking the negative values. This and the following two commands have been repeated for the following columns:\n",
    "# Columns 'fare_amount', 'extra', 'mat_tax', 'tip_amount', 'improvement_surcharge' and 'total_amount'.\n",
    "df.loc[df['total_amount'] < 0]"
   ]
  },
  {
   "cell_type": "markdown",
   "id": "60f5743f",
   "metadata": {},
   "source": [
    "The 'fare_amount' column had negative values in 70 rows. This does not make sense, as independently of the length of the trip, any form of payment would have meant a positive value. It is reasonable to ascribe this error to a typo mistake. As it is only 0.0007% of the data, I will use the mean value for imputation to solve this issue.\n",
    "\n",
    "The 'extra' column had negative values in 19 rows. This does not make sense, as independently of the length of the trip, any form of extras would have meant a positive value. It is reasonable to ascribe this error to a typo mistake. As it is only 0.00019% of the data, I will use the mean value for imputation to solve this issue.\n",
    "\n",
    "The 'mta_tax' column had negative values in 66 rows. This does not make sense, as independently of the length of the trip, any form of tax would have meant a positive value. It is reasonable to ascribe this error to a typo mistake. As it is only 0.00066% of the data, I will use the mean value for imputation to solve this issue.\n",
    "\n",
    "The 'tip_amount' column had negative values in 4 rows. This does not make sense, as independently of the length of the trip, any form of tip would have meant a positive value. It is reasonable to ascribe this error to a typo mistake. As it is only 0.0001% of the data, I will use the mean value for imputation to solve this issue.\n",
    "\n",
    "The 'improvement_surcharge' column had negative values in 70 rows. This does not make sense, as independently of the length of the trip, any form of payment would have meant a positive value. It is reasonable to ascribe this error to a typo mistake. As it is only 0.0007% of the data, I will use the mean value for imputation to solve this issue.\n",
    "\n",
    "The 'improvement_surcharge' column had negative values in 70 rows. This does not make sense, as independently of the length of the trip, any form of payment would have meant a positive value. It is reasonable to ascribe this error to a typo mistake. As it is only 0.0007% of the data, I will use the mean value for imputation to solve this issue."
   ]
  },
  {
   "cell_type": "code",
   "execution_count": 38,
   "id": "32a44ce5",
   "metadata": {},
   "outputs": [],
   "source": [
    "# Replacing  negative outliers with the mean. \n",
    "df.loc[df['total_amount'] < 0, 'total_amount'] = np.nan"
   ]
  },
  {
   "cell_type": "code",
   "execution_count": 39,
   "id": "e7240622",
   "metadata": {},
   "outputs": [],
   "source": [
    "# Negative outliers solved => same operation repeated for all columns just named above.\n",
    "df['total_amount'].fillna((df['total_amount'].mean()), inplace=True)"
   ]
  },
  {
   "cell_type": "markdown",
   "id": "63697e66",
   "metadata": {},
   "source": [
    "Changing data types from numeric to string."
   ]
  },
  {
   "cell_type": "code",
   "execution_count": 43,
   "id": "7e5b4697",
   "metadata": {},
   "outputs": [],
   "source": [
    "# Changing the following columns data types to string (text): VendorID, passenger_count, payment_type, RateCodeID. \n",
    "# Even though written in numbers, they represent text options, not numbers. This comand has been repeated for all the abovementioned columns.\n",
    "df['payment_type'] = df['payment_type'].astype('str')"
   ]
  },
  {
   "cell_type": "markdown",
   "id": "f0b2f976",
   "metadata": {},
   "source": [
    "The numeric columns are: trip_distance, fare_amount, extra, mta_tax, tip_amount, tolls_amount, mprovement_surcharge, total_amount.\n",
    "Pickup_time and dropoff_time alre also numeric, but currently their data is shown as object."
   ]
  },
  {
   "cell_type": "code",
   "execution_count": 64,
   "id": "e1d49cfd",
   "metadata": {},
   "outputs": [
    {
     "data": {
      "text/html": [
       "<div>\n",
       "<style scoped>\n",
       "    .dataframe tbody tr th:only-of-type {\n",
       "        vertical-align: middle;\n",
       "    }\n",
       "\n",
       "    .dataframe tbody tr th {\n",
       "        vertical-align: top;\n",
       "    }\n",
       "\n",
       "    .dataframe thead th {\n",
       "        text-align: right;\n",
       "    }\n",
       "</style>\n",
       "<table border=\"1\" class=\"dataframe\">\n",
       "  <thead>\n",
       "    <tr style=\"text-align: right;\">\n",
       "      <th></th>\n",
       "      <th>VendorID</th>\n",
       "      <th>pickup_date</th>\n",
       "      <th>pickup_time</th>\n",
       "      <th>dropff_date</th>\n",
       "      <th>dropoff_time</th>\n",
       "      <th>passenger_count</th>\n",
       "      <th>trip_distance</th>\n",
       "      <th>pickup_longitude</th>\n",
       "      <th>pickup_latitude</th>\n",
       "      <th>RatecodeID</th>\n",
       "      <th>...</th>\n",
       "      <th>dropoff_longitude</th>\n",
       "      <th>dropoff_latitude</th>\n",
       "      <th>payment_type</th>\n",
       "      <th>fare_amount</th>\n",
       "      <th>extra</th>\n",
       "      <th>mta_tax</th>\n",
       "      <th>tip_amount</th>\n",
       "      <th>tolls_amount</th>\n",
       "      <th>improvement_surcharge</th>\n",
       "      <th>total_amount</th>\n",
       "    </tr>\n",
       "  </thead>\n",
       "  <tbody>\n",
       "    <tr>\n",
       "      <th>35136</th>\n",
       "      <td>2</td>\n",
       "      <td>10/03/2016 00:00</td>\n",
       "      <td>10:18:00</td>\n",
       "      <td>10/03/2016 00:00</td>\n",
       "      <td>18:32:00</td>\n",
       "      <td>2</td>\n",
       "      <td>51.27</td>\n",
       "      <td>-73.947281</td>\n",
       "      <td>40.783939</td>\n",
       "      <td>1</td>\n",
       "      <td>...</td>\n",
       "      <td>-73.951141</td>\n",
       "      <td>40.785179</td>\n",
       "      <td>2</td>\n",
       "      <td>314.5</td>\n",
       "      <td>0.0</td>\n",
       "      <td>0.5</td>\n",
       "      <td>0.0</td>\n",
       "      <td>0.0</td>\n",
       "      <td>0.3</td>\n",
       "      <td>315.3</td>\n",
       "    </tr>\n",
       "    <tr>\n",
       "      <th>75653</th>\n",
       "      <td>1</td>\n",
       "      <td>01/03/2016 00:00</td>\n",
       "      <td>01:02:00</td>\n",
       "      <td>01/03/2016 00:00</td>\n",
       "      <td>03:54:00</td>\n",
       "      <td>1</td>\n",
       "      <td>160.80</td>\n",
       "      <td>-73.905586</td>\n",
       "      <td>40.874123</td>\n",
       "      <td>4</td>\n",
       "      <td>...</td>\n",
       "      <td>-73.710709</td>\n",
       "      <td>42.666893</td>\n",
       "      <td>2</td>\n",
       "      <td>819.5</td>\n",
       "      <td>0.5</td>\n",
       "      <td>0.5</td>\n",
       "      <td>0.0</td>\n",
       "      <td>12.0</td>\n",
       "      <td>0.3</td>\n",
       "      <td>832.8</td>\n",
       "    </tr>\n",
       "    <tr>\n",
       "      <th>76891</th>\n",
       "      <td>2</td>\n",
       "      <td>10/03/2016 00:00</td>\n",
       "      <td>13:41:00</td>\n",
       "      <td>10/03/2016 00:00</td>\n",
       "      <td>13:42:00</td>\n",
       "      <td>1</td>\n",
       "      <td>0.00</td>\n",
       "      <td>-73.996964</td>\n",
       "      <td>40.742344</td>\n",
       "      <td>5</td>\n",
       "      <td>...</td>\n",
       "      <td>-73.996964</td>\n",
       "      <td>40.742344</td>\n",
       "      <td>1</td>\n",
       "      <td>400.0</td>\n",
       "      <td>0.0</td>\n",
       "      <td>0.0</td>\n",
       "      <td>0.0</td>\n",
       "      <td>0.0</td>\n",
       "      <td>0.3</td>\n",
       "      <td>400.3</td>\n",
       "    </tr>\n",
       "    <tr>\n",
       "      <th>77168</th>\n",
       "      <td>2</td>\n",
       "      <td>10/03/2016 00:00</td>\n",
       "      <td>13:43:00</td>\n",
       "      <td>10/03/2016 00:00</td>\n",
       "      <td>13:43:00</td>\n",
       "      <td>1</td>\n",
       "      <td>0.00</td>\n",
       "      <td>-73.996964</td>\n",
       "      <td>40.742344</td>\n",
       "      <td>5</td>\n",
       "      <td>...</td>\n",
       "      <td>0.000000</td>\n",
       "      <td>0.000000</td>\n",
       "      <td>1</td>\n",
       "      <td>400.0</td>\n",
       "      <td>0.0</td>\n",
       "      <td>0.0</td>\n",
       "      <td>0.0</td>\n",
       "      <td>0.0</td>\n",
       "      <td>0.3</td>\n",
       "      <td>400.3</td>\n",
       "    </tr>\n",
       "  </tbody>\n",
       "</table>\n",
       "<p>4 rows × 21 columns</p>\n",
       "</div>"
      ],
      "text/plain": [
       "      VendorID       pickup_date pickup_time       dropff_date dropoff_time  \\\n",
       "35136        2  10/03/2016 00:00    10:18:00  10/03/2016 00:00     18:32:00   \n",
       "75653        1  01/03/2016 00:00    01:02:00  01/03/2016 00:00     03:54:00   \n",
       "76891        2  10/03/2016 00:00    13:41:00  10/03/2016 00:00     13:42:00   \n",
       "77168        2  10/03/2016 00:00    13:43:00  10/03/2016 00:00     13:43:00   \n",
       "\n",
       "      passenger_count  trip_distance  pickup_longitude  pickup_latitude  \\\n",
       "35136               2          51.27        -73.947281        40.783939   \n",
       "75653               1         160.80        -73.905586        40.874123   \n",
       "76891               1           0.00        -73.996964        40.742344   \n",
       "77168               1           0.00        -73.996964        40.742344   \n",
       "\n",
       "      RatecodeID  ... dropoff_longitude  dropoff_latitude  payment_type  \\\n",
       "35136          1  ...        -73.951141         40.785179             2   \n",
       "75653          4  ...        -73.710709         42.666893             2   \n",
       "76891          5  ...        -73.996964         40.742344             1   \n",
       "77168          5  ...          0.000000          0.000000             1   \n",
       "\n",
       "      fare_amount  extra  mta_tax  tip_amount  tolls_amount  \\\n",
       "35136       314.5    0.0      0.5         0.0           0.0   \n",
       "75653       819.5    0.5      0.5         0.0          12.0   \n",
       "76891       400.0    0.0      0.0         0.0           0.0   \n",
       "77168       400.0    0.0      0.0         0.0           0.0   \n",
       "\n",
       "       improvement_surcharge  total_amount  \n",
       "35136                    0.3         315.3  \n",
       "75653                    0.3         832.8  \n",
       "76891                    0.3         400.3  \n",
       "77168                    0.3         400.3  \n",
       "\n",
       "[4 rows x 21 columns]"
      ]
     },
     "execution_count": 64,
     "metadata": {},
     "output_type": "execute_result"
    }
   ],
   "source": [
    "# Checking the outliers in the max values.\n",
    "# This command has been repeated with different values, and with both columns 'trip distance' and 'fare amount', to get the report below.\n",
    "df.loc[df['fare_amount'] > 300]"
   ]
  },
  {
   "cell_type": "markdown",
   "id": "4b4ff309",
   "metadata": {},
   "source": [
    "From 100000 trips, there are:\n",
    "Just 2 that exceed 100 miles (entries 75653 and 99665)\n",
    "Another 2 that exceed 50 miles (entries 35136 and 94698)\n",
    "Another 551 entries that exceed 20 miles\n",
    "Another 2355 entries that exceed 15 miles. In total, 2910 entries.\n",
    "\n",
    "There are 2921 trips that exceed $50 dollars. From those, 64 that exceed $100 dollars. From the latter, 26 that exceed $150 dollars. Lastly, from those 10 exceed $200 dollars. Only four trips exceed $300 dollars.\n",
    "\n",
    "There seems to be no relation between length of trip and fare amount, as I can observe some relatively short trips costing very expensive, and some long trips costing less. Also, observing pick up and drop times it seems that fare amount is judged by time in the cab, not length of trip. I would go to my superior to check this."
   ]
  },
  {
   "cell_type": "code",
   "execution_count": 65,
   "id": "228632c2",
   "metadata": {},
   "outputs": [],
   "source": [
    "# Exporting 'df' to csv\n",
    "df.to_csv(os.path.join(path, '2-Data','Prepared Data', 'uber_checked.csv'))"
   ]
  },
  {
   "cell_type": "code",
   "execution_count": null,
   "id": "da5ad3a3",
   "metadata": {},
   "outputs": [],
   "source": []
  }
 ],
 "metadata": {
  "kernelspec": {
   "display_name": "Python 3 (ipykernel)",
   "language": "python",
   "name": "python3"
  },
  "language_info": {
   "codemirror_mode": {
    "name": "ipython",
    "version": 3
   },
   "file_extension": ".py",
   "mimetype": "text/x-python",
   "name": "python",
   "nbconvert_exporter": "python",
   "pygments_lexer": "ipython3",
   "version": "3.11.5"
  }
 },
 "nbformat": 4,
 "nbformat_minor": 5
}
