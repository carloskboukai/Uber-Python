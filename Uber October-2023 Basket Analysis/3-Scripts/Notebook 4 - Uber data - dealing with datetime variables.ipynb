{
 "cells": [
  {
   "cell_type": "markdown",
   "id": "dbfe5a95",
   "metadata": {},
   "source": [
    "This notebook contains:\n",
    "    \n",
    "1) commands to limit trips to $50 as not to skew the data analysis\n",
    "\n",
    "2) creating the new variables, not saved in the previous notebook (grouping trips by length and fare amount)\n",
    "\n",
    "3) converting date and time variables from 'object' to date and time values\n",
    "\n",
    "4) exporting updated notebook to file\n"
   ]
  },
  {
   "cell_type": "code",
   "execution_count": 1,
   "id": "9e83c324",
   "metadata": {},
   "outputs": [],
   "source": [
    "# Importing Analitycal and Visual libraries\n",
    "import pandas as pd\n",
    "import numpy as np\n",
    "import os\n",
    "import matplotlib.pyplot as plt\n",
    "import seaborn as sns\n",
    "import scipy\n",
    "from datetime import datetime "
   ]
  },
  {
   "cell_type": "markdown",
   "id": "f03a48ea",
   "metadata": {},
   "source": [
    "Creating a path"
   ]
  },
  {
   "cell_type": "code",
   "execution_count": 2,
   "id": "1099ee3e",
   "metadata": {},
   "outputs": [],
   "source": [
    "path = r'C:\\Users\\Paola\\Desktop\\Shaul\\Data\\CF\\Data Immersion\\Achievement 6\\Uber October-2023 Basket Analysis'"
   ]
  },
  {
   "cell_type": "code",
   "execution_count": 3,
   "id": "9a455f2d",
   "metadata": {},
   "outputs": [
    {
     "data": {
      "text/plain": [
       "'C:\\\\Users\\\\Paola\\\\Desktop\\\\Shaul\\\\Data\\\\CF\\\\Data Immersion\\\\Achievement 6\\\\Uber October-2023 Basket Analysis'"
      ]
     },
     "execution_count": 3,
     "metadata": {},
     "output_type": "execute_result"
    }
   ],
   "source": [
    "path"
   ]
  },
  {
   "cell_type": "code",
   "execution_count": 4,
   "id": "98a23288",
   "metadata": {},
   "outputs": [],
   "source": [
    "df = pd.read_csv(os.path.join(path, '2-Data', 'Prepared Data', 'uber_checked2.csv'), index_col = False)"
   ]
  },
  {
   "cell_type": "code",
   "execution_count": 5,
   "id": "d4f93451",
   "metadata": {},
   "outputs": [
    {
     "data": {
      "text/plain": [
       "(99990, 21)"
      ]
     },
     "execution_count": 5,
     "metadata": {},
     "output_type": "execute_result"
    }
   ],
   "source": [
    "# Checking the dataset\n",
    "df.shape"
   ]
  },
  {
   "cell_type": "code",
   "execution_count": 6,
   "id": "8bbb82c0",
   "metadata": {},
   "outputs": [
    {
     "data": {
      "text/plain": [
       "Index(['VendorID', 'pickup_date', 'pickup_time', 'dropff_date', 'dropoff_time',\n",
       "       'passenger_count', 'trip_distance', 'pickup_longitude',\n",
       "       'pickup_latitude', 'RatecodeID', 'store_and_fwd_flag',\n",
       "       'dropoff_longitude', 'dropoff_latitude', 'payment_type', 'fare_amount',\n",
       "       'extra', 'mta_tax', 'tip_amount', 'tolls_amount',\n",
       "       'improvement_surcharge', 'total_amount'],\n",
       "      dtype='object')"
      ]
     },
     "execution_count": 6,
     "metadata": {},
     "output_type": "execute_result"
    }
   ],
   "source": [
    "df.columns"
   ]
  },
  {
   "cell_type": "code",
   "execution_count": 7,
   "id": "1a70053d",
   "metadata": {},
   "outputs": [],
   "source": [
    "# There are 2921 trips that exceed $50 dollars. From those, 64 that exceed $100 dollars. \n",
    "# From the latter, 26 that exceed $150 dollars. Lastly, from those 10 exceed $200 dollars. \n",
    "# Only four trips exceed $300 dollars. I am limiting the visual analysis to trip costing up to $50, to avoid skewing\n",
    "# the data unnecessarily.\n",
    "df = df.loc[df['fare_amount'] < 51]"
   ]
  },
  {
   "cell_type": "code",
   "execution_count": 8,
   "id": "e46fff82",
   "metadata": {},
   "outputs": [
    {
     "data": {
      "text/plain": [
       "(97106, 21)"
      ]
     },
     "execution_count": 8,
     "metadata": {},
     "output_type": "execute_result"
    }
   ],
   "source": [
    "df.shape"
   ]
  },
  {
   "cell_type": "code",
   "execution_count": 9,
   "id": "517c8368",
   "metadata": {},
   "outputs": [],
   "source": [
    "# NOTE: I am repeating these steps to create these variables, as I did not save them in the previous notebook.\n",
    "# Creating a new variable to categorise trips by length\n",
    "df.loc[df['trip_distance'] < 5, 'Trip category'] = 'Short trip'"
   ]
  },
  {
   "cell_type": "code",
   "execution_count": 10,
   "id": "250eb38b",
   "metadata": {},
   "outputs": [],
   "source": [
    "df.loc[(df['trip_distance'] >= 5) & (df['trip_distance'] <10), 'Trip category'] = 'Normal trip'"
   ]
  },
  {
   "cell_type": "code",
   "execution_count": 11,
   "id": "be05b8c8",
   "metadata": {},
   "outputs": [],
   "source": [
    "df.loc[df['trip_distance'] >= 10, 'Trip category'] = 'Longer trip'"
   ]
  },
  {
   "cell_type": "code",
   "execution_count": 12,
   "id": "06246955",
   "metadata": {},
   "outputs": [
    {
     "data": {
      "text/plain": [
       "Short trip     84137\n",
       "Normal trip     9372\n",
       "Longer trip     3597\n",
       "Name: Trip category, dtype: int64"
      ]
     },
     "execution_count": 12,
     "metadata": {},
     "output_type": "execute_result"
    }
   ],
   "source": [
    "# Checking value counts for the new variable\n",
    "df['Trip category'].value_counts(dropna = False)"
   ]
  },
  {
   "cell_type": "code",
   "execution_count": 13,
   "id": "49a65e13",
   "metadata": {},
   "outputs": [],
   "source": [
    "# NOTE: I am repeating these steps to create this variable for the same reason as stated above.\n",
    "# Creating a new variable to categorise trips by length\n",
    "df.loc[df['fare_amount'] < 10, 'Fare category'] = 'Cheap trip'"
   ]
  },
  {
   "cell_type": "code",
   "execution_count": 14,
   "id": "31f96898",
   "metadata": {},
   "outputs": [],
   "source": [
    "df.loc[(df['fare_amount'] >= 10) & (df['fare_amount'] <20), 'Fare category'] = 'Midprice trip'"
   ]
  },
  {
   "cell_type": "code",
   "execution_count": 15,
   "id": "f0c4bf7d",
   "metadata": {},
   "outputs": [],
   "source": [
    "df.loc[df['fare_amount'] >= 20, 'Fare category'] = 'Expensive trip'"
   ]
  },
  {
   "cell_type": "code",
   "execution_count": 16,
   "id": "3ed7f87a",
   "metadata": {},
   "outputs": [
    {
     "data": {
      "text/plain": [
       "Cheap trip        50349\n",
       "Midprice trip     33757\n",
       "Expensive trip    13000\n",
       "Name: Fare category, dtype: int64"
      ]
     },
     "execution_count": 16,
     "metadata": {},
     "output_type": "execute_result"
    }
   ],
   "source": [
    "# Checking value counts for the new variable\n",
    "df['Fare category'].value_counts(dropna = False)"
   ]
  },
  {
   "cell_type": "markdown",
   "id": "6f0f3918",
   "metadata": {},
   "source": [
    "Dealing with the date and time variables"
   ]
  },
  {
   "cell_type": "code",
   "execution_count": 35,
   "id": "ee27c9b5",
   "metadata": {},
   "outputs": [
    {
     "data": {
      "text/plain": [
       "count                97106\n",
       "unique                   2\n",
       "top       10/03/2016 00:00\n",
       "freq                 74823\n",
       "Name: pickup_date, dtype: object"
      ]
     },
     "execution_count": 35,
     "metadata": {},
     "output_type": "execute_result"
    }
   ],
   "source": [
    "df.pickup_date.describe()"
   ]
  },
  {
   "cell_type": "code",
   "execution_count": 40,
   "id": "7413655b",
   "metadata": {},
   "outputs": [],
   "source": [
    "# Renaming/Standardising column name: from 'dropff_date' to 'dropoff_date'\n",
    "df.rename(columns = {'dropff_date' : 'dropoff_date'}, inplace = True)"
   ]
  },
  {
   "cell_type": "code",
   "execution_count": 41,
   "id": "2a0af479",
   "metadata": {},
   "outputs": [
    {
     "data": {
      "text/plain": [
       "count        97106\n",
       "unique         916\n",
       "top       08:29:00\n",
       "freq           224\n",
       "Name: dropoff_time_new, dtype: object"
      ]
     },
     "execution_count": 41,
     "metadata": {},
     "output_type": "execute_result"
    }
   ],
   "source": [
    "# I have repeated this command to create new four variables.\n",
    "#These are: 'pickup date new', 'dropoff date new', 'pickup time new', 'dropoff time new'.\n",
    "df['dropoff_date_new'] = pd.to_datetime(df['dropoff_date'], format = '%d/%m/%Y %H:%M').dt.date"
   ]
  },
  {
   "cell_type": "code",
   "execution_count": 47,
   "id": "9b4a8f49",
   "metadata": {},
   "outputs": [
    {
     "data": {
      "text/plain": [
       "count          97106\n",
       "unique             2\n",
       "top       2016-03-10\n",
       "freq           74823\n",
       "Name: pickup_date_new, dtype: object"
      ]
     },
     "execution_count": 47,
     "metadata": {},
     "output_type": "execute_result"
    }
   ],
   "source": [
    "df.pickup_date_new.describe(datetime_is_numeric=True)"
   ]
  },
  {
   "cell_type": "code",
   "execution_count": 42,
   "id": "a0d55fef",
   "metadata": {},
   "outputs": [
    {
     "data": {
      "text/plain": [
       "count          97106\n",
       "unique             4\n",
       "top       2016-03-10\n",
       "freq           74664\n",
       "Name: dropoff_date_new, dtype: object"
      ]
     },
     "execution_count": 42,
     "metadata": {},
     "output_type": "execute_result"
    }
   ],
   "source": [
    "df.dropoff_date_new.describe(datetime_is_numeric=True)"
   ]
  },
  {
   "cell_type": "code",
   "execution_count": 48,
   "id": "17921fcb",
   "metadata": {},
   "outputs": [
    {
     "data": {
      "text/plain": [
       "count        97106\n",
       "unique         819\n",
       "top       08:20:00\n",
       "freq           238\n",
       "Name: pickup_time_new, dtype: object"
      ]
     },
     "execution_count": 48,
     "metadata": {},
     "output_type": "execute_result"
    }
   ],
   "source": [
    "df.pickup_time_new.describe(datetime_is_numeric=True)"
   ]
  },
  {
   "cell_type": "code",
   "execution_count": 49,
   "id": "8e650350",
   "metadata": {},
   "outputs": [
    {
     "data": {
      "text/plain": [
       "count        97106\n",
       "unique         916\n",
       "top       08:29:00\n",
       "freq           224\n",
       "Name: dropoff_time_new, dtype: object"
      ]
     },
     "execution_count": 49,
     "metadata": {},
     "output_type": "execute_result"
    }
   ],
   "source": [
    "df.dropoff_time_new.describe(datetime_is_numeric=True)"
   ]
  },
  {
   "cell_type": "code",
   "execution_count": 43,
   "id": "2ae43d57",
   "metadata": {},
   "outputs": [
    {
     "data": {
      "text/plain": [
       "Index(['VendorID', 'pickup_date', 'pickup_time', 'dropoff_date',\n",
       "       'dropoff_time', 'passenger_count', 'trip_distance', 'pickup_longitude',\n",
       "       'pickup_latitude', 'RatecodeID', 'store_and_fwd_flag',\n",
       "       'dropoff_longitude', 'dropoff_latitude', 'payment_type', 'fare_amount',\n",
       "       'extra', 'mta_tax', 'tip_amount', 'tolls_amount',\n",
       "       'improvement_surcharge', 'total_amount', 'Trip category',\n",
       "       'Fare category', 'pickup_time_new', 'dropoff_time_new',\n",
       "       'pickup_date_new', 'dropoff_date_new'],\n",
       "      dtype='object')"
      ]
     },
     "execution_count": 43,
     "metadata": {},
     "output_type": "execute_result"
    }
   ],
   "source": [
    "df.columns"
   ]
  },
  {
   "cell_type": "code",
   "execution_count": 50,
   "id": "96c51e03",
   "metadata": {},
   "outputs": [],
   "source": [
    "# Exporting 'df' to csv\n",
    "df.to_csv(os.path.join(path, '2-Data','Prepared Data', 'uber_limited_to_usd50_trips.csv'), index=False)"
   ]
  },
  {
   "cell_type": "code",
   "execution_count": null,
   "id": "6c09db6c",
   "metadata": {},
   "outputs": [],
   "source": []
  }
 ],
 "metadata": {
  "kernelspec": {
   "display_name": "Python 3 (ipykernel)",
   "language": "python",
   "name": "python3"
  },
  "language_info": {
   "codemirror_mode": {
    "name": "ipython",
    "version": 3
   },
   "file_extension": ".py",
   "mimetype": "text/x-python",
   "name": "python",
   "nbconvert_exporter": "python",
   "pygments_lexer": "ipython3",
   "version": "3.11.5"
  }
 },
 "nbformat": 4,
 "nbformat_minor": 5
}
