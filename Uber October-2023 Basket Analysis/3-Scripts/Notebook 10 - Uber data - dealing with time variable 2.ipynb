{
 "cells": [
  {
   "cell_type": "markdown",
   "id": "cf4591cd",
   "metadata": {},
   "source": [
    "This notebook contains the following:\n",
    "\n",
    "1)\tImporting relevant libraries and dataset.\n",
    "\n",
    "2)\tCreating a time variable => checking the duration of trips.\n",
    "\n",
    "3)\tSubsetting to look for patterns. \n",
    "\n",
    "4)\tDealing with negative values for new time variable.\n",
    "\n",
    "5)\tChecking correlation between duration of trip (in minutes) and fare to pay.\n",
    "\n",
    "6)\tPatterns on the duration of trips. Creating a line chart.\n",
    "\n",
    "7)\tGetting summary stats for correlation.\n",
    "\n",
    "8)\tExporting file to folder. Creating and saving new variables in original data set.\n"
   ]
  },
  {
   "cell_type": "code",
   "execution_count": 1,
   "id": "58463029",
   "metadata": {},
   "outputs": [],
   "source": [
    "# Importing Analitycal and Visual libraries\n",
    "import pandas as pd\n",
    "import numpy as np\n",
    "import os\n",
    "import matplotlib.pyplot as plt\n",
    "import seaborn as sns\n",
    "import scipy\n",
    "from datetime import datetime \n",
    "import folium\n",
    "import json\n",
    "import plotly\n",
    "import plotly.express as px\n",
    "import geopandas as gpd\n",
    "from shapely.geometry import Point\n",
    "import sklearn\n",
    "from sklearn.model_selection import train_test_split \n",
    "from sklearn.linear_model import LinearRegression\n",
    "from sklearn.metrics import mean_squared_error, r2_score\n",
    "from sklearn.cluster import KMeans \n",
    "import pylab as pl "
   ]
  },
  {
   "cell_type": "code",
   "execution_count": 2,
   "id": "1a4e7d2c",
   "metadata": {},
   "outputs": [],
   "source": [
    "# This command propts matplotlib visuals to appear in the notebook \n",
    "\n",
    "%matplotlib inline"
   ]
  },
  {
   "cell_type": "markdown",
   "id": "0ec22bd7",
   "metadata": {},
   "source": [
    "Creating a path to import and working on data set"
   ]
  },
  {
   "cell_type": "code",
   "execution_count": 3,
   "id": "ad8c3019",
   "metadata": {},
   "outputs": [],
   "source": [
    "# Establishing path\n",
    "path = r'C:\\Users\\Paola\\Desktop\\Shaul\\Data\\CF\\Data Immersion\\Achievement 6\\Uber October-2023 Basket Analysis'"
   ]
  },
  {
   "cell_type": "code",
   "execution_count": 4,
   "id": "4e604b8b",
   "metadata": {},
   "outputs": [],
   "source": [
    "# Following observations from previous notebooks, trip fare has been limited to $15 in order not to skew the data.\n",
    "\n",
    "df = pd.read_csv(os.path.join(path, '2-Data', 'Prepared Data', 'uber_usd15_trips.csv'), index_col = False)"
   ]
  },
  {
   "cell_type": "markdown",
   "id": "10d96cda",
   "metadata": {},
   "source": [
    "Creating a time variable (minutes) to get the duration of trips in time."
   ]
  },
  {
   "cell_type": "code",
   "execution_count": 16,
   "id": "507680df",
   "metadata": {},
   "outputs": [],
   "source": [
    "# I am splitting the 'pickup time new' column into 3 columns: hours, minutes and seconds.\n",
    "# I want to subtract the number of minutes between drop off and pickup times, to check if this affects the price.\n",
    "df[['h','m','s']] = df['pickup_time_new'].astype(str).str.split(':', expand=True).astype(int)"
   ]
  },
  {
   "cell_type": "code",
   "execution_count": 17,
   "id": "e6b8aed2",
   "metadata": {},
   "outputs": [],
   "source": [
    "# Dropping the unnecessary columns.\n",
    "df = df.drop(columns=['s'])"
   ]
  },
  {
   "cell_type": "code",
   "execution_count": 18,
   "id": "1964747d",
   "metadata": {},
   "outputs": [],
   "source": [
    "# Renaming the hour-variable column for easier identification\n",
    "df.rename(columns = {'h' : 'pickup hour'}, inplace = True)"
   ]
  },
  {
   "cell_type": "code",
   "execution_count": 19,
   "id": "f0be5b1e",
   "metadata": {},
   "outputs": [],
   "source": [
    "# Renaming the minute-variable column for easier identification\n",
    "df.rename(columns = {'m' : 'pickup'}, inplace = True)"
   ]
  },
  {
   "cell_type": "code",
   "execution_count": 20,
   "id": "3b8a3934",
   "metadata": {},
   "outputs": [],
   "source": [
    "# I am splitting the 'dropoff time new' column into 3 columns: hours, minutes and seconds.\n",
    "# I want to subtract the number of minutes between drop off and pickup times, to check if this affects the price.\n",
    "df[['h','m','s']] = df['dropoff_time_new'].astype(str).str.split(':', expand=True).astype(int)"
   ]
  },
  {
   "cell_type": "code",
   "execution_count": 21,
   "id": "3acef9a1",
   "metadata": {},
   "outputs": [],
   "source": [
    "# Dropping the unnecessary columns.\n",
    "df = df.drop(columns=['h','s'])"
   ]
  },
  {
   "cell_type": "code",
   "execution_count": 22,
   "id": "cda9fec2",
   "metadata": {},
   "outputs": [],
   "source": [
    "# Renaming the time-variable column for easier identification\n",
    "df.rename(columns = {'m' : 'dropoff'}, inplace = True)"
   ]
  },
  {
   "cell_type": "code",
   "execution_count": 23,
   "id": "2de055e2",
   "metadata": {},
   "outputs": [
    {
     "data": {
      "text/plain": [
       "Index(['VendorID', 'pickup_date', 'pickup_time', 'dropoff_date',\n",
       "       'dropoff_time', 'passenger_count', 'trip_distance', 'pickup_longitude',\n",
       "       'pickup_latitude', 'RatecodeID', 'store_and_fwd_flag',\n",
       "       'dropoff_longitude', 'dropoff_latitude', 'payment_type', 'fare_amount',\n",
       "       'extra', 'mta_tax', 'tip_amount', 'tolls_amount',\n",
       "       'improvement_surcharge', 'total_amount', 'Trip category',\n",
       "       'Fare category', 'pickup_time_new', 'dropoff_time_new',\n",
       "       'pickup_date_new', 'dropoff_date_new', 'geometry', 'Borough_name',\n",
       "       'payment_category', 'pickup hour', 'pickup time', 'dropoff time',\n",
       "       'time trip', 'pickup hour', 'pickup time', 'dropoff time',\n",
       "       'pickup hour', 'pickup', 'dropoff'],\n",
       "      dtype='object')"
      ]
     },
     "execution_count": 23,
     "metadata": {},
     "output_type": "execute_result"
    }
   ],
   "source": [
    "df.columns"
   ]
  },
  {
   "cell_type": "code",
   "execution_count": 25,
   "id": "bd9fb37b",
   "metadata": {},
   "outputs": [],
   "source": [
    "df['time trip'] = df['dropoff'] - df['pickup']"
   ]
  },
  {
   "cell_type": "code",
   "execution_count": 28,
   "id": "fb7dbe52",
   "metadata": {},
   "outputs": [],
   "source": [
    "df = df.loc[:,~df.columns.duplicated()].copy()"
   ]
  },
  {
   "cell_type": "code",
   "execution_count": 29,
   "id": "d4cd7089",
   "metadata": {},
   "outputs": [
    {
     "data": {
      "text/plain": [
       "Index(['VendorID', 'pickup_date', 'pickup_time', 'dropoff_date',\n",
       "       'dropoff_time', 'passenger_count', 'trip_distance', 'pickup_longitude',\n",
       "       'pickup_latitude', 'RatecodeID', 'store_and_fwd_flag',\n",
       "       'dropoff_longitude', 'dropoff_latitude', 'payment_type', 'fare_amount',\n",
       "       'extra', 'mta_tax', 'tip_amount', 'tolls_amount',\n",
       "       'improvement_surcharge', 'total_amount', 'Trip category',\n",
       "       'Fare category', 'pickup_time_new', 'dropoff_time_new',\n",
       "       'pickup_date_new', 'dropoff_date_new', 'geometry', 'Borough_name',\n",
       "       'payment_category', 'pickup hour', 'pickup time', 'dropoff time',\n",
       "       'time trip', 'pickup', 'dropoff'],\n",
       "      dtype='object')"
      ]
     },
     "execution_count": 29,
     "metadata": {},
     "output_type": "execute_result"
    }
   ],
   "source": [
    "df.columns"
   ]
  },
  {
   "cell_type": "code",
   "execution_count": 30,
   "id": "e7893e58",
   "metadata": {},
   "outputs": [
    {
     "data": {
      "text/plain": [
       "(74551, 36)"
      ]
     },
     "execution_count": 30,
     "metadata": {},
     "output_type": "execute_result"
    }
   ],
   "source": [
    "df.shape"
   ]
  },
  {
   "cell_type": "markdown",
   "id": "5d274d7e",
   "metadata": {},
   "source": [
    "Creating a subset to look for patterns"
   ]
  },
  {
   "cell_type": "code",
   "execution_count": 31,
   "id": "e06c7ea9",
   "metadata": {},
   "outputs": [],
   "source": [
    "sub = df[['time trip', 'fare_amount']]"
   ]
  },
  {
   "cell_type": "code",
   "execution_count": 32,
   "id": "a090dc9e",
   "metadata": {},
   "outputs": [
    {
     "data": {
      "text/html": [
       "<div>\n",
       "<style scoped>\n",
       "    .dataframe tbody tr th:only-of-type {\n",
       "        vertical-align: middle;\n",
       "    }\n",
       "\n",
       "    .dataframe tbody tr th {\n",
       "        vertical-align: top;\n",
       "    }\n",
       "\n",
       "    .dataframe thead th {\n",
       "        text-align: right;\n",
       "    }\n",
       "</style>\n",
       "<table border=\"1\" class=\"dataframe\">\n",
       "  <thead>\n",
       "    <tr style=\"text-align: right;\">\n",
       "      <th></th>\n",
       "      <th>time trip</th>\n",
       "      <th>fare_amount</th>\n",
       "    </tr>\n",
       "  </thead>\n",
       "  <tbody>\n",
       "    <tr>\n",
       "      <th>count</th>\n",
       "      <td>74551.000000</td>\n",
       "      <td>74551.000000</td>\n",
       "    </tr>\n",
       "    <tr>\n",
       "      <th>mean</th>\n",
       "      <td>0.429585</td>\n",
       "      <td>8.449496</td>\n",
       "    </tr>\n",
       "    <tr>\n",
       "      <th>std</th>\n",
       "      <td>21.138156</td>\n",
       "      <td>3.047291</td>\n",
       "    </tr>\n",
       "    <tr>\n",
       "      <th>min</th>\n",
       "      <td>-59.000000</td>\n",
       "      <td>0.000000</td>\n",
       "    </tr>\n",
       "    <tr>\n",
       "      <th>25%</th>\n",
       "      <td>4.000000</td>\n",
       "      <td>6.000000</td>\n",
       "    </tr>\n",
       "    <tr>\n",
       "      <th>50%</th>\n",
       "      <td>7.000000</td>\n",
       "      <td>8.000000</td>\n",
       "    </tr>\n",
       "    <tr>\n",
       "      <th>75%</th>\n",
       "      <td>12.000000</td>\n",
       "      <td>10.500000</td>\n",
       "    </tr>\n",
       "    <tr>\n",
       "      <th>max</th>\n",
       "      <td>58.000000</td>\n",
       "      <td>15.000000</td>\n",
       "    </tr>\n",
       "  </tbody>\n",
       "</table>\n",
       "</div>"
      ],
      "text/plain": [
       "          time trip   fare_amount\n",
       "count  74551.000000  74551.000000\n",
       "mean       0.429585      8.449496\n",
       "std       21.138156      3.047291\n",
       "min      -59.000000      0.000000\n",
       "25%        4.000000      6.000000\n",
       "50%        7.000000      8.000000\n",
       "75%       12.000000     10.500000\n",
       "max       58.000000     15.000000"
      ]
     },
     "execution_count": 32,
     "metadata": {},
     "output_type": "execute_result"
    }
   ],
   "source": [
    "sub.describe()"
   ]
  },
  {
   "cell_type": "code",
   "execution_count": 33,
   "id": "d2bbbbb5",
   "metadata": {},
   "outputs": [
    {
     "data": {
      "text/html": [
       "<div>\n",
       "<style scoped>\n",
       "    .dataframe tbody tr th:only-of-type {\n",
       "        vertical-align: middle;\n",
       "    }\n",
       "\n",
       "    .dataframe tbody tr th {\n",
       "        vertical-align: top;\n",
       "    }\n",
       "\n",
       "    .dataframe thead th {\n",
       "        text-align: right;\n",
       "    }\n",
       "</style>\n",
       "<table border=\"1\" class=\"dataframe\">\n",
       "  <thead>\n",
       "    <tr style=\"text-align: right;\">\n",
       "      <th></th>\n",
       "      <th>time trip</th>\n",
       "      <th>fare_amount</th>\n",
       "    </tr>\n",
       "  </thead>\n",
       "  <tbody>\n",
       "    <tr>\n",
       "      <th>1686</th>\n",
       "      <td>-9</td>\n",
       "      <td>11.0</td>\n",
       "    </tr>\n",
       "    <tr>\n",
       "      <th>1794</th>\n",
       "      <td>-20</td>\n",
       "      <td>5.0</td>\n",
       "    </tr>\n",
       "    <tr>\n",
       "      <th>3458</th>\n",
       "      <td>-33</td>\n",
       "      <td>5.5</td>\n",
       "    </tr>\n",
       "    <tr>\n",
       "      <th>4084</th>\n",
       "      <td>-13</td>\n",
       "      <td>10.0</td>\n",
       "    </tr>\n",
       "    <tr>\n",
       "      <th>4199</th>\n",
       "      <td>-38</td>\n",
       "      <td>14.0</td>\n",
       "    </tr>\n",
       "    <tr>\n",
       "      <th>...</th>\n",
       "      <td>...</td>\n",
       "      <td>...</td>\n",
       "    </tr>\n",
       "    <tr>\n",
       "      <th>72311</th>\n",
       "      <td>-8</td>\n",
       "      <td>7.5</td>\n",
       "    </tr>\n",
       "    <tr>\n",
       "      <th>73637</th>\n",
       "      <td>-3</td>\n",
       "      <td>6.0</td>\n",
       "    </tr>\n",
       "    <tr>\n",
       "      <th>73653</th>\n",
       "      <td>-22</td>\n",
       "      <td>13.5</td>\n",
       "    </tr>\n",
       "    <tr>\n",
       "      <th>74095</th>\n",
       "      <td>-25</td>\n",
       "      <td>5.5</td>\n",
       "    </tr>\n",
       "    <tr>\n",
       "      <th>74482</th>\n",
       "      <td>-2</td>\n",
       "      <td>10.0</td>\n",
       "    </tr>\n",
       "  </tbody>\n",
       "</table>\n",
       "<p>11656 rows × 2 columns</p>\n",
       "</div>"
      ],
      "text/plain": [
       "       time trip  fare_amount\n",
       "1686          -9         11.0\n",
       "1794         -20          5.0\n",
       "3458         -33          5.5\n",
       "4084         -13         10.0\n",
       "4199         -38         14.0\n",
       "...          ...          ...\n",
       "72311         -8          7.5\n",
       "73637         -3          6.0\n",
       "73653        -22         13.5\n",
       "74095        -25          5.5\n",
       "74482         -2         10.0\n",
       "\n",
       "[11656 rows x 2 columns]"
      ]
     },
     "execution_count": 33,
     "metadata": {},
     "output_type": "execute_result"
    }
   ],
   "source": [
    "sub.loc[sub['time trip'] < 0]"
   ]
  },
  {
   "cell_type": "markdown",
   "id": "ab9a927d",
   "metadata": {},
   "source": [
    "There are 11656 rows in which the duration of the trip in time has a negative value. This does not make sense. An initial correlation test on this data showed no causal relation between duration of trip in time and increase in fare.\n",
    "\n",
    "I will replace the negative values with the median and check if the results change.\n",
    "This is not an easy decision, and I would have checked this with my superior. This negative values represent about 15% of the total data, which is very significant from a statistical perspective. However, by replacing these missing values with the median, I can now see a pattern emerging from the data. I do not think that the median value in this proportion (15%) would have made such an impact. However, the negative values certainly did."
   ]
  },
  {
   "cell_type": "markdown",
   "id": "29b2a650",
   "metadata": {},
   "source": [
    "Dealing with new negative values for time variable."
   ]
  },
  {
   "cell_type": "code",
   "execution_count": 34,
   "id": "dd2f3292",
   "metadata": {},
   "outputs": [],
   "source": [
    "# Replacing  negative outliers with the mean. \n",
    "sub.loc[df['time trip'] < 0, 'time trip'] = np.nan"
   ]
  },
  {
   "cell_type": "code",
   "execution_count": 35,
   "id": "a466bfce",
   "metadata": {},
   "outputs": [
    {
     "name": "stderr",
     "output_type": "stream",
     "text": [
      "C:\\Users\\Paola\\AppData\\Local\\Temp\\ipykernel_13820\\2059368893.py:2: SettingWithCopyWarning: \n",
      "A value is trying to be set on a copy of a slice from a DataFrame\n",
      "\n",
      "See the caveats in the documentation: https://pandas.pydata.org/pandas-docs/stable/user_guide/indexing.html#returning-a-view-versus-a-copy\n",
      "  sub['time trip'].fillna((df['time trip'].median()), inplace=True)\n"
     ]
    }
   ],
   "source": [
    "# Negative outliers solved => same operation repeated for all columns just named above.\n",
    "sub['time trip'].fillna((df['time trip'].median()), inplace=True)"
   ]
  },
  {
   "cell_type": "code",
   "execution_count": 36,
   "id": "a079824b",
   "metadata": {},
   "outputs": [
    {
     "data": {
      "text/html": [
       "<div>\n",
       "<style scoped>\n",
       "    .dataframe tbody tr th:only-of-type {\n",
       "        vertical-align: middle;\n",
       "    }\n",
       "\n",
       "    .dataframe tbody tr th {\n",
       "        vertical-align: top;\n",
       "    }\n",
       "\n",
       "    .dataframe thead th {\n",
       "        text-align: right;\n",
       "    }\n",
       "</style>\n",
       "<table border=\"1\" class=\"dataframe\">\n",
       "  <thead>\n",
       "    <tr style=\"text-align: right;\">\n",
       "      <th></th>\n",
       "      <th>time trip</th>\n",
       "      <th>fare_amount</th>\n",
       "    </tr>\n",
       "  </thead>\n",
       "  <tbody>\n",
       "    <tr>\n",
       "      <th>count</th>\n",
       "      <td>74551.000000</td>\n",
       "      <td>74551.000000</td>\n",
       "    </tr>\n",
       "    <tr>\n",
       "      <th>mean</th>\n",
       "      <td>8.897426</td>\n",
       "      <td>8.449496</td>\n",
       "    </tr>\n",
       "    <tr>\n",
       "      <th>std</th>\n",
       "      <td>4.666666</td>\n",
       "      <td>3.047291</td>\n",
       "    </tr>\n",
       "    <tr>\n",
       "      <th>min</th>\n",
       "      <td>0.000000</td>\n",
       "      <td>0.000000</td>\n",
       "    </tr>\n",
       "    <tr>\n",
       "      <th>25%</th>\n",
       "      <td>6.000000</td>\n",
       "      <td>6.000000</td>\n",
       "    </tr>\n",
       "    <tr>\n",
       "      <th>50%</th>\n",
       "      <td>7.000000</td>\n",
       "      <td>8.000000</td>\n",
       "    </tr>\n",
       "    <tr>\n",
       "      <th>75%</th>\n",
       "      <td>12.000000</td>\n",
       "      <td>10.500000</td>\n",
       "    </tr>\n",
       "    <tr>\n",
       "      <th>max</th>\n",
       "      <td>58.000000</td>\n",
       "      <td>15.000000</td>\n",
       "    </tr>\n",
       "  </tbody>\n",
       "</table>\n",
       "</div>"
      ],
      "text/plain": [
       "          time trip   fare_amount\n",
       "count  74551.000000  74551.000000\n",
       "mean       8.897426      8.449496\n",
       "std        4.666666      3.047291\n",
       "min        0.000000      0.000000\n",
       "25%        6.000000      6.000000\n",
       "50%        7.000000      8.000000\n",
       "75%       12.000000     10.500000\n",
       "max       58.000000     15.000000"
      ]
     },
     "execution_count": 36,
     "metadata": {},
     "output_type": "execute_result"
    }
   ],
   "source": [
    "# Checking stats after replacing the negative values with the mean.\n",
    "sub.describe()"
   ]
  },
  {
   "cell_type": "markdown",
   "id": "1192fa87",
   "metadata": {},
   "source": [
    "Checking correlation between duration of trip (in minutes) and fare to pay."
   ]
  },
  {
   "cell_type": "code",
   "execution_count": 37,
   "id": "8cfc32d2",
   "metadata": {},
   "outputs": [
    {
     "data": {
      "image/png": "[encoded data removed]",
      "text/plain": [
       "<Figure size 640x480 with 1 Axes>"
      ]
     },
     "metadata": {},
     "output_type": "display_data"
    }
   ],
   "source": [
    "# Create a scatterplot using matplotlib for another look at how the chosen variables plot against each other.\n",
    "\n",
    "sub.plot(x = 'time trip', y='fare_amount',style='o') \n",
    "plt.title('Distribution time vs. fare')  \n",
    "plt.xlabel('time trip')  \n",
    "plt.ylabel('fare_amount')  \n",
    "plt.show()\n",
    "# Visualisation saved using right click, to visualisation folder."
   ]
  },
  {
   "cell_type": "code",
   "execution_count": 38,
   "id": "f41ba04b",
   "metadata": {},
   "outputs": [],
   "source": [
    "# There seems to be a clear pattern between length of trip (in time, NOT distance) and fare.\n",
    "# I am now checking the correlation between these 2 variables (hour and fare).\n",
    "# Reshaping the variables into NumPy arrays and putting them into separate objects.\n",
    "\n",
    "X = sub['time trip'].values.reshape(-1,1)\n",
    "y = sub['fare_amount'].values.reshape(-1,1)"
   ]
  },
  {
   "cell_type": "code",
   "execution_count": 39,
   "id": "302a2e80",
   "metadata": {},
   "outputs": [
    {
     "data": {
      "text/plain": [
       "array([[ 7.],\n",
       "       [11.],\n",
       "       [ 5.],\n",
       "       ...,\n",
       "       [15.],\n",
       "       [ 5.],\n",
       "       [ 5.]])"
      ]
     },
     "execution_count": 39,
     "metadata": {},
     "output_type": "execute_result"
    }
   ],
   "source": [
    "# Checking the arrays\n",
    "X"
   ]
  },
  {
   "cell_type": "code",
   "execution_count": 40,
   "id": "3807cf67",
   "metadata": {},
   "outputs": [
    {
     "data": {
      "text/plain": [
       "array([[ 9. ],\n",
       "       [11. ],\n",
       "       [ 5.5],\n",
       "       ...,\n",
       "       [14. ],\n",
       "       [ 5.5],\n",
       "       [ 6. ]])"
      ]
     },
     "execution_count": 40,
     "metadata": {},
     "output_type": "execute_result"
    }
   ],
   "source": [
    "y"
   ]
  },
  {
   "cell_type": "code",
   "execution_count": 41,
   "id": "157319ff",
   "metadata": {},
   "outputs": [],
   "source": [
    "# Spliting the data into a training set and a test set.\n",
    "\n",
    "X_train, X_test, y_train, y_test = train_test_split(X, y, test_size=0.3, random_state=0)"
   ]
  },
  {
   "cell_type": "code",
   "execution_count": 42,
   "id": "769bcdf6",
   "metadata": {},
   "outputs": [
    {
     "data": {
      "text/plain": [
       "array([[ 6.],\n",
       "       [ 7.],\n",
       "       [ 7.],\n",
       "       ...,\n",
       "       [15.],\n",
       "       [ 1.],\n",
       "       [ 7.]])"
      ]
     },
     "execution_count": 42,
     "metadata": {},
     "output_type": "execute_result"
    }
   ],
   "source": [
    "# Checking the X_train array\n",
    "X_train"
   ]
  },
  {
   "cell_type": "code",
   "execution_count": 43,
   "id": "841c22c3",
   "metadata": {},
   "outputs": [],
   "source": [
    "# Creating a regression object.\n",
    "\n",
    "reg = LinearRegression()"
   ]
  },
  {
   "cell_type": "code",
   "execution_count": 44,
   "id": "658d66ea",
   "metadata": {},
   "outputs": [
    {
     "data": {
      "text/html": [
       "<style>#sk-container-id-1 {color: black;background-color: white;}#sk-container-id-1 pre{padding: 0;}#sk-container-id-1 div.sk-toggleable {background-color: white;}#sk-container-id-1 label.sk-toggleable__label {cursor: pointer;display: block;width: 100%;margin-bottom: 0;padding: 0.3em;box-sizing: border-box;text-align: center;}#sk-container-id-1 label.sk-toggleable__label-arrow:before {content: \"▸\";float: left;margin-right: 0.25em;color: #696969;}#sk-container-id-1 label.sk-toggleable__label-arrow:hover:before {color: black;}#sk-container-id-1 div.sk-estimator:hover label.sk-toggleable__label-arrow:before {color: black;}#sk-container-id-1 div.sk-toggleable__content {max-height: 0;max-width: 0;overflow: hidden;text-align: left;background-color: #f0f8ff;}#sk-container-id-1 div.sk-toggleable__content pre {margin: 0.2em;color: black;border-radius: 0.25em;background-color: #f0f8ff;}#sk-container-id-1 input.sk-toggleable__control:checked~div.sk-toggleable__content {max-height: 200px;max-width: 100%;overflow: auto;}#sk-container-id-1 input.sk-toggleable__control:checked~label.sk-toggleable__label-arrow:before {content: \"▾\";}#sk-container-id-1 div.sk-estimator input.sk-toggleable__control:checked~label.sk-toggleable__label {background-color: #d4ebff;}#sk-container-id-1 div.sk-label input.sk-toggleable__control:checked~label.sk-toggleable__label {background-color: #d4ebff;}#sk-container-id-1 input.sk-hidden--visually {border: 0;clip: rect(1px 1px 1px 1px);clip: rect(1px, 1px, 1px, 1px);height: 1px;margin: -1px;overflow: hidden;padding: 0;position: absolute;width: 1px;}#sk-container-id-1 div.sk-estimator {font-family: monospace;background-color: #f0f8ff;border: 1px dotted black;border-radius: 0.25em;box-sizing: border-box;margin-bottom: 0.5em;}#sk-container-id-1 div.sk-estimator:hover {background-color: #d4ebff;}#sk-container-id-1 div.sk-parallel-item::after {content: \"\";width: 100%;border-bottom: 1px solid gray;flex-grow: 1;}#sk-container-id-1 div.sk-label:hover label.sk-toggleable__label {background-color: #d4ebff;}#sk-container-id-1 div.sk-serial::before {content: \"\";position: absolute;border-left: 1px solid gray;box-sizing: border-box;top: 0;bottom: 0;left: 50%;z-index: 0;}#sk-container-id-1 div.sk-serial {display: flex;flex-direction: column;align-items: center;background-color: white;padding-right: 0.2em;padding-left: 0.2em;position: relative;}#sk-container-id-1 div.sk-item {position: relative;z-index: 1;}#sk-container-id-1 div.sk-parallel {display: flex;align-items: stretch;justify-content: center;background-color: white;position: relative;}#sk-container-id-1 div.sk-item::before, #sk-container-id-1 div.sk-parallel-item::before {content: \"\";position: absolute;border-left: 1px solid gray;box-sizing: border-box;top: 0;bottom: 0;left: 50%;z-index: -1;}#sk-container-id-1 div.sk-parallel-item {display: flex;flex-direction: column;z-index: 1;position: relative;background-color: white;}#sk-container-id-1 div.sk-parallel-item:first-child::after {align-self: flex-end;width: 50%;}#sk-container-id-1 div.sk-parallel-item:last-child::after {align-self: flex-start;width: 50%;}#sk-container-id-1 div.sk-parallel-item:only-child::after {width: 0;}#sk-container-id-1 div.sk-dashed-wrapped {border: 1px dashed gray;margin: 0 0.4em 0.5em 0.4em;box-sizing: border-box;padding-bottom: 0.4em;background-color: white;}#sk-container-id-1 div.sk-label label {font-family: monospace;font-weight: bold;display: inline-block;line-height: 1.2em;}#sk-container-id-1 div.sk-label-container {text-align: center;}#sk-container-id-1 div.sk-container {/* jupyter's `normalize.less` sets `[hidden] { display: none; }` but bootstrap.min.css set `[hidden] { display: none !important; }` so we also need the `!important` here to be able to override the default hidden behavior on the sphinx rendered scikit-learn.org. See: https://github.com/scikit-learn/scikit-learn/issues/21755 */display: inline-block !important;position: relative;}#sk-container-id-1 div.sk-text-repr-fallback {display: none;}</style><div id=\"sk-container-id-1\" class=\"sk-top-container\"><div class=\"sk-text-repr-fallback\"><pre>LinearRegression()</pre><b>In a Jupyter environment, please rerun this cell to show the HTML representation or trust the notebook. <br />On GitHub, the HTML representation is unable to render, please try loading this page with nbviewer.org.</b></div><div class=\"sk-container\" hidden><div class=\"sk-item\"><div class=\"sk-estimator sk-toggleable\"><input class=\"sk-toggleable__control sk-hidden--visually\" id=\"sk-estimator-id-1\" type=\"checkbox\" checked><label for=\"sk-estimator-id-1\" class=\"sk-toggleable__label sk-toggleable__label-arrow\">LinearRegression</label><div class=\"sk-toggleable__content\"><pre>LinearRegression()</pre></div></div></div></div></div>"
      ],
      "text/plain": [
       "LinearRegression()"
      ]
     },
     "execution_count": 44,
     "metadata": {},
     "output_type": "execute_result"
    }
   ],
   "source": [
    "# Fitting the regression object onto the training set.\n",
    "\n",
    "reg.fit(X_train, y_train)"
   ]
  },
  {
   "cell_type": "code",
   "execution_count": 45,
   "id": "43f10ce1",
   "metadata": {},
   "outputs": [],
   "source": [
    "# Predicting the values of y using X.\n",
    "\n",
    "y_pred = reg.predict(X_test)"
   ]
  },
  {
   "cell_type": "code",
   "execution_count": 46,
   "id": "90897757",
   "metadata": {},
   "outputs": [
    {
     "data": {
      "image/png": "[encoded data removed]",
      "text/plain": [
       "<Figure size 640x480 with 1 Axes>"
      ]
     },
     "metadata": {},
     "output_type": "display_data"
    }
   ],
   "source": [
    "# Creating a plot that shows the regression line from the model on the test set.\n",
    "\n",
    "plot_test = plt\n",
    "plot_test.scatter(X_test, y_test, color='red', s = 15)\n",
    "plot_test.plot(X_test, y_pred, color='blue', linewidth =3)\n",
    "plot_test.title('Trip in time vs. Fare amount (Test set)')\n",
    "plot_test.xlabel('Trip in minutes')\n",
    "plot_test.ylabel('Fare amount')\n",
    "plot_test.show()\n",
    "# Saving graph with right click."
   ]
  },
  {
   "cell_type": "code",
   "execution_count": 47,
   "id": "527d5101",
   "metadata": {},
   "outputs": [
    {
     "data": {
      "text/html": [
       "<div>\n",
       "<style scoped>\n",
       "    .dataframe tbody tr th:only-of-type {\n",
       "        vertical-align: middle;\n",
       "    }\n",
       "\n",
       "    .dataframe tbody tr th {\n",
       "        vertical-align: top;\n",
       "    }\n",
       "\n",
       "    .dataframe thead th {\n",
       "        text-align: right;\n",
       "    }\n",
       "</style>\n",
       "<table border=\"1\" class=\"dataframe\">\n",
       "  <thead>\n",
       "    <tr style=\"text-align: right;\">\n",
       "      <th></th>\n",
       "      <th>time trip</th>\n",
       "      <th>fare_amount</th>\n",
       "    </tr>\n",
       "  </thead>\n",
       "  <tbody>\n",
       "    <tr>\n",
       "      <th>time trip</th>\n",
       "      <td>1.000000</td>\n",
       "      <td>0.766223</td>\n",
       "    </tr>\n",
       "    <tr>\n",
       "      <th>fare_amount</th>\n",
       "      <td>0.766223</td>\n",
       "      <td>1.000000</td>\n",
       "    </tr>\n",
       "  </tbody>\n",
       "</table>\n",
       "</div>"
      ],
      "text/plain": [
       "             time trip  fare_amount\n",
       "time trip     1.000000     0.766223\n",
       "fare_amount   0.766223     1.000000"
      ]
     },
     "execution_count": 47,
     "metadata": {},
     "output_type": "execute_result"
    }
   ],
   "source": [
    "sub.corr()"
   ]
  },
  {
   "cell_type": "code",
   "execution_count": 48,
   "id": "34e60af7",
   "metadata": {},
   "outputs": [
    {
     "data": {
      "image/png": "[encoded data removed]",
      "text/plain": [
       "<Figure size 500x500 with 2 Axes>"
      ]
     },
     "metadata": {},
     "output_type": "display_data"
    }
   ],
   "source": [
    "# Create a subplot with matplotlib\n",
    "f,ax = plt.subplots(figsize=(5,5))\n",
    "\n",
    "# Create the correlation heatmap in seaborn.\n",
    "corr = sns.heatmap(sub.corr(), annot = True, ax = ax).set(title = 'Correlation matrix') "
   ]
  },
  {
   "cell_type": "markdown",
   "id": "dddbc776",
   "metadata": {},
   "source": [
    "Now that i have replaced the negative values for the median, the data shows a moderate to strong correlation between duration of trip in time and fare to pay"
   ]
  },
  {
   "cell_type": "markdown",
   "id": "13bc6091",
   "metadata": {},
   "source": [
    "Patterns on the duration of trips. Creating a line chart."
   ]
  },
  {
   "cell_type": "code",
   "execution_count": 50,
   "id": "2de0a6c9",
   "metadata": {},
   "outputs": [
    {
     "data": {
      "image/png": "[encoded data removed]",
      "text/plain": [
       "<Figure size 640x480 with 1 Axes>"
      ]
     },
     "metadata": {},
     "output_type": "display_data"
    }
   ],
   "source": [
    "line2 = sns.lineplot(data = sub, x = 'time trip',y = 'fare_amount').set(title = 'Relation duration of trip and amount')"
   ]
  },
  {
   "cell_type": "markdown",
   "id": "d252e9b5",
   "metadata": {},
   "source": [
    "There is a clear pattern of increasing the trip's fare with the duration of the trip => when it is regarding short trips (up to 25 minutes).\n",
    "\n",
    "In previous notebooks, I have shown that short trips are the most common in this dataset."
   ]
  },
  {
   "cell_type": "code",
   "execution_count": 51,
   "id": "b6863380",
   "metadata": {},
   "outputs": [],
   "source": [
    "# Creating objects that contain the model summary statistics.\n",
    "\n",
    "rmse = mean_squared_error(y_test, y_pred) # This is the mean squared error\n",
    "r2 = r2_score(y_test, y_pred) # This is the R2 score. "
   ]
  },
  {
   "cell_type": "code",
   "execution_count": 52,
   "id": "19ccfe91",
   "metadata": {},
   "outputs": [
    {
     "name": "stdout",
     "output_type": "stream",
     "text": [
      "Slope: [[0.49820024]]\n",
      "Mean squared error:  3.8123306460669935\n",
      "R2 score:  0.5897190842668856\n"
     ]
    }
   ],
   "source": [
    "# Printing the model summary statistics.\n",
    "\n",
    "print('Slope:' ,reg.coef_)\n",
    "print('Mean squared error: ', rmse)\n",
    "print('R2 score: ', r2)"
   ]
  },
  {
   "cell_type": "markdown",
   "id": "b17a73ab",
   "metadata": {},
   "source": [
    "Observations:\n",
    "\n",
    "The slope indicates a positive correlation between the data points. Most of them are fairly close to the line.\n",
    "\n",
    "The MSE is very small for a data set with over 75000 entries (after limiting trips to $15). It indicates this model makes it a good fit for regression.\n",
    "\n",
    "The R2 score is 0.58 (or close to 60% of accuracy). In one hand, it is a totally bad model. However, it also has an almost 40% possibility of inaccuracy. Therefore, it is not the best model to be used for regression.\n",
    "\n",
    "So far, it seems that duration of a trip (in time/minites) plays an important role in determining a trip's fare, but it is definitely not the only factor, and it is not a fully causal relationship: we have seen longer trips with a fairly cheaper fare."
   ]
  },
  {
   "cell_type": "code",
   "execution_count": 53,
   "id": "3434babe",
   "metadata": {},
   "outputs": [
    {
     "data": {
      "text/html": [
       "<div>\n",
       "<style scoped>\n",
       "    .dataframe tbody tr th:only-of-type {\n",
       "        vertical-align: middle;\n",
       "    }\n",
       "\n",
       "    .dataframe tbody tr th {\n",
       "        vertical-align: top;\n",
       "    }\n",
       "\n",
       "    .dataframe thead th {\n",
       "        text-align: right;\n",
       "    }\n",
       "</style>\n",
       "<table border=\"1\" class=\"dataframe\">\n",
       "  <thead>\n",
       "    <tr style=\"text-align: right;\">\n",
       "      <th></th>\n",
       "      <th>Actual fare</th>\n",
       "      <th>Predicted fare</th>\n",
       "    </tr>\n",
       "  </thead>\n",
       "  <tbody>\n",
       "    <tr>\n",
       "      <th>0</th>\n",
       "      <td>8.5</td>\n",
       "      <td>9.495966</td>\n",
       "    </tr>\n",
       "    <tr>\n",
       "      <th>1</th>\n",
       "      <td>14.0</td>\n",
       "      <td>11.986967</td>\n",
       "    </tr>\n",
       "    <tr>\n",
       "      <th>2</th>\n",
       "      <td>10.0</td>\n",
       "      <td>7.503165</td>\n",
       "    </tr>\n",
       "    <tr>\n",
       "      <th>3</th>\n",
       "      <td>5.0</td>\n",
       "      <td>7.004965</td>\n",
       "    </tr>\n",
       "    <tr>\n",
       "      <th>4</th>\n",
       "      <td>3.5</td>\n",
       "      <td>5.012164</td>\n",
       "    </tr>\n",
       "    <tr>\n",
       "      <th>5</th>\n",
       "      <td>8.5</td>\n",
       "      <td>8.001365</td>\n",
       "    </tr>\n",
       "    <tr>\n",
       "      <th>6</th>\n",
       "      <td>12.0</td>\n",
       "      <td>7.503165</td>\n",
       "    </tr>\n",
       "    <tr>\n",
       "      <th>7</th>\n",
       "      <td>5.0</td>\n",
       "      <td>6.008564</td>\n",
       "    </tr>\n",
       "    <tr>\n",
       "      <th>8</th>\n",
       "      <td>10.0</td>\n",
       "      <td>8.499565</td>\n",
       "    </tr>\n",
       "    <tr>\n",
       "      <th>9</th>\n",
       "      <td>7.5</td>\n",
       "      <td>9.495966</td>\n",
       "    </tr>\n",
       "    <tr>\n",
       "      <th>10</th>\n",
       "      <td>6.0</td>\n",
       "      <td>6.506764</td>\n",
       "    </tr>\n",
       "    <tr>\n",
       "      <th>11</th>\n",
       "      <td>12.5</td>\n",
       "      <td>10.492366</td>\n",
       "    </tr>\n",
       "    <tr>\n",
       "      <th>12</th>\n",
       "      <td>10.0</td>\n",
       "      <td>10.990567</td>\n",
       "    </tr>\n",
       "    <tr>\n",
       "      <th>13</th>\n",
       "      <td>12.5</td>\n",
       "      <td>8.997766</td>\n",
       "    </tr>\n",
       "    <tr>\n",
       "      <th>14</th>\n",
       "      <td>3.5</td>\n",
       "      <td>5.012164</td>\n",
       "    </tr>\n",
       "    <tr>\n",
       "      <th>15</th>\n",
       "      <td>3.5</td>\n",
       "      <td>4.513963</td>\n",
       "    </tr>\n",
       "    <tr>\n",
       "      <th>16</th>\n",
       "      <td>5.0</td>\n",
       "      <td>5.510364</td>\n",
       "    </tr>\n",
       "    <tr>\n",
       "      <th>17</th>\n",
       "      <td>11.0</td>\n",
       "      <td>7.503165</td>\n",
       "    </tr>\n",
       "    <tr>\n",
       "      <th>18</th>\n",
       "      <td>7.0</td>\n",
       "      <td>8.001365</td>\n",
       "    </tr>\n",
       "    <tr>\n",
       "      <th>19</th>\n",
       "      <td>7.0</td>\n",
       "      <td>8.499565</td>\n",
       "    </tr>\n",
       "    <tr>\n",
       "      <th>20</th>\n",
       "      <td>15.0</td>\n",
       "      <td>10.990567</td>\n",
       "    </tr>\n",
       "    <tr>\n",
       "      <th>21</th>\n",
       "      <td>10.0</td>\n",
       "      <td>8.001365</td>\n",
       "    </tr>\n",
       "    <tr>\n",
       "      <th>22</th>\n",
       "      <td>5.5</td>\n",
       "      <td>7.503165</td>\n",
       "    </tr>\n",
       "    <tr>\n",
       "      <th>23</th>\n",
       "      <td>6.0</td>\n",
       "      <td>7.503165</td>\n",
       "    </tr>\n",
       "    <tr>\n",
       "      <th>24</th>\n",
       "      <td>8.5</td>\n",
       "      <td>9.495966</td>\n",
       "    </tr>\n",
       "  </tbody>\n",
       "</table>\n",
       "</div>"
      ],
      "text/plain": [
       "    Actual fare  Predicted fare\n",
       "0           8.5        9.495966\n",
       "1          14.0       11.986967\n",
       "2          10.0        7.503165\n",
       "3           5.0        7.004965\n",
       "4           3.5        5.012164\n",
       "5           8.5        8.001365\n",
       "6          12.0        7.503165\n",
       "7           5.0        6.008564\n",
       "8          10.0        8.499565\n",
       "9           7.5        9.495966\n",
       "10          6.0        6.506764\n",
       "11         12.5       10.492366\n",
       "12         10.0       10.990567\n",
       "13         12.5        8.997766\n",
       "14          3.5        5.012164\n",
       "15          3.5        4.513963\n",
       "16          5.0        5.510364\n",
       "17         11.0        7.503165\n",
       "18          7.0        8.001365\n",
       "19          7.0        8.499565\n",
       "20         15.0       10.990567\n",
       "21         10.0        8.001365\n",
       "22          5.5        7.503165\n",
       "23          6.0        7.503165\n",
       "24          8.5        9.495966"
      ]
     },
     "execution_count": 53,
     "metadata": {},
     "output_type": "execute_result"
    }
   ],
   "source": [
    "# Creating a dataframe comparing the actual and predicted values of y (the trip's fare).\n",
    "\n",
    "data = pd.DataFrame({'Actual fare': y_test.flatten(), 'Predicted fare': y_pred.flatten()})\n",
    "data.head(25)"
   ]
  },
  {
   "cell_type": "code",
   "execution_count": 54,
   "id": "39d10d64",
   "metadata": {},
   "outputs": [
    {
     "data": {
      "image/png": "[encoded data removed]",
      "text/plain": [
       "<Figure size 640x480 with 1 Axes>"
      ]
     },
     "metadata": {},
     "output_type": "display_data"
    }
   ],
   "source": [
    "# Creating a scatterplot using matplotlib for another look at how the chosen variables plot against each other.\n",
    "\n",
    "data.plot(x = 'Actual fare', y='Predicted fare',style='o')\n",
    "plt.title('Actual vs Predicted fare')  \n",
    "plt.xlabel('Actual')  \n",
    "plt.ylabel('Predicted')  \n",
    "plt.show()"
   ]
  },
  {
   "cell_type": "markdown",
   "id": "0920cdd5",
   "metadata": {},
   "source": [
    "It can be inferred that the model works accurately, but - as previously stated - its range of inaccuracy is too high to be relied upon. This confirms my conclusions when analysing the MSE and the R2 score."
   ]
  },
  {
   "cell_type": "markdown",
   "id": "e3c5d789",
   "metadata": {},
   "source": [
    "Bias: I consider there is - if at all - little risk of bias in this model test and hypothesis. Both referring to the data collection, and to the actual testing (since it is following the same logical reasoning expounded in the previous notebooks)."
   ]
  },
  {
   "cell_type": "markdown",
   "id": "6cd3afd5",
   "metadata": {},
   "source": [
    "Exporting file to folder. Creating and saving new variables in original data set."
   ]
  },
  {
   "cell_type": "code",
   "execution_count": 55,
   "id": "3617d7e0",
   "metadata": {},
   "outputs": [
    {
     "data": {
      "text/html": [
       "<div>\n",
       "<style scoped>\n",
       "    .dataframe tbody tr th:only-of-type {\n",
       "        vertical-align: middle;\n",
       "    }\n",
       "\n",
       "    .dataframe tbody tr th {\n",
       "        vertical-align: top;\n",
       "    }\n",
       "\n",
       "    .dataframe thead th {\n",
       "        text-align: right;\n",
       "    }\n",
       "</style>\n",
       "<table border=\"1\" class=\"dataframe\">\n",
       "  <thead>\n",
       "    <tr style=\"text-align: right;\">\n",
       "      <th></th>\n",
       "      <th>VendorID</th>\n",
       "      <th>pickup_date</th>\n",
       "      <th>pickup_time</th>\n",
       "      <th>dropoff_date</th>\n",
       "      <th>dropoff_time</th>\n",
       "      <th>passenger_count</th>\n",
       "      <th>trip_distance</th>\n",
       "      <th>pickup_longitude</th>\n",
       "      <th>pickup_latitude</th>\n",
       "      <th>RatecodeID</th>\n",
       "      <th>...</th>\n",
       "      <th>dropoff_date_new</th>\n",
       "      <th>geometry</th>\n",
       "      <th>Borough_name</th>\n",
       "      <th>payment_category</th>\n",
       "      <th>pickup hour</th>\n",
       "      <th>pickup time</th>\n",
       "      <th>dropoff time</th>\n",
       "      <th>time trip</th>\n",
       "      <th>pickup</th>\n",
       "      <th>dropoff</th>\n",
       "    </tr>\n",
       "  </thead>\n",
       "  <tbody>\n",
       "    <tr>\n",
       "      <th>1686</th>\n",
       "      <td>2</td>\n",
       "      <td>10/03/2016 00:00</td>\n",
       "      <td>07:19:00</td>\n",
       "      <td>11/03/2016 00:00</td>\n",
       "      <td>07:10:00</td>\n",
       "      <td>6</td>\n",
       "      <td>2.30</td>\n",
       "      <td>-73.986877</td>\n",
       "      <td>40.766460</td>\n",
       "      <td>1</td>\n",
       "      <td>...</td>\n",
       "      <td>2016-03-11</td>\n",
       "      <td>POINT (-73.98687744 40.76646042)</td>\n",
       "      <td>Manhattan</td>\n",
       "      <td>Card</td>\n",
       "      <td>7</td>\n",
       "      <td>19</td>\n",
       "      <td>10</td>\n",
       "      <td>-9</td>\n",
       "      <td>19</td>\n",
       "      <td>10</td>\n",
       "    </tr>\n",
       "    <tr>\n",
       "      <th>1794</th>\n",
       "      <td>2</td>\n",
       "      <td>10/03/2016 00:00</td>\n",
       "      <td>07:20:00</td>\n",
       "      <td>11/03/2016 00:00</td>\n",
       "      <td>00:00:00</td>\n",
       "      <td>3</td>\n",
       "      <td>0.86</td>\n",
       "      <td>-73.986481</td>\n",
       "      <td>40.768490</td>\n",
       "      <td>1</td>\n",
       "      <td>...</td>\n",
       "      <td>2016-03-11</td>\n",
       "      <td>POINT (-73.98648071 40.76848984)</td>\n",
       "      <td>Manhattan</td>\n",
       "      <td>Card</td>\n",
       "      <td>7</td>\n",
       "      <td>20</td>\n",
       "      <td>0</td>\n",
       "      <td>-20</td>\n",
       "      <td>20</td>\n",
       "      <td>0</td>\n",
       "    </tr>\n",
       "    <tr>\n",
       "      <th>3458</th>\n",
       "      <td>2</td>\n",
       "      <td>10/03/2016 00:00</td>\n",
       "      <td>07:33:00</td>\n",
       "      <td>11/03/2016 00:00</td>\n",
       "      <td>00:00:00</td>\n",
       "      <td>2</td>\n",
       "      <td>0.97</td>\n",
       "      <td>-73.951736</td>\n",
       "      <td>40.773666</td>\n",
       "      <td>1</td>\n",
       "      <td>...</td>\n",
       "      <td>2016-03-11</td>\n",
       "      <td>POINT (-73.95173645 40.77366638)</td>\n",
       "      <td>Manhattan</td>\n",
       "      <td>Card</td>\n",
       "      <td>7</td>\n",
       "      <td>33</td>\n",
       "      <td>0</td>\n",
       "      <td>-33</td>\n",
       "      <td>33</td>\n",
       "      <td>0</td>\n",
       "    </tr>\n",
       "    <tr>\n",
       "      <th>4084</th>\n",
       "      <td>2</td>\n",
       "      <td>10/03/2016 00:00</td>\n",
       "      <td>07:37:00</td>\n",
       "      <td>11/03/2016 00:00</td>\n",
       "      <td>07:24:00</td>\n",
       "      <td>1</td>\n",
       "      <td>2.14</td>\n",
       "      <td>-74.015221</td>\n",
       "      <td>40.709358</td>\n",
       "      <td>1</td>\n",
       "      <td>...</td>\n",
       "      <td>2016-03-11</td>\n",
       "      <td>POINT (-74.01522064 40.70935822)</td>\n",
       "      <td>Manhattan</td>\n",
       "      <td>Card</td>\n",
       "      <td>7</td>\n",
       "      <td>37</td>\n",
       "      <td>24</td>\n",
       "      <td>-13</td>\n",
       "      <td>37</td>\n",
       "      <td>24</td>\n",
       "    </tr>\n",
       "    <tr>\n",
       "      <th>4199</th>\n",
       "      <td>2</td>\n",
       "      <td>10/03/2016 00:00</td>\n",
       "      <td>07:38:00</td>\n",
       "      <td>10/03/2016 00:00</td>\n",
       "      <td>08:00:00</td>\n",
       "      <td>1</td>\n",
       "      <td>2.31</td>\n",
       "      <td>-73.939613</td>\n",
       "      <td>40.751629</td>\n",
       "      <td>1</td>\n",
       "      <td>...</td>\n",
       "      <td>2016-03-10</td>\n",
       "      <td>POINT (-73.93961334 40.75162888)</td>\n",
       "      <td>Queens</td>\n",
       "      <td>Card</td>\n",
       "      <td>7</td>\n",
       "      <td>38</td>\n",
       "      <td>0</td>\n",
       "      <td>-38</td>\n",
       "      <td>38</td>\n",
       "      <td>0</td>\n",
       "    </tr>\n",
       "    <tr>\n",
       "      <th>...</th>\n",
       "      <td>...</td>\n",
       "      <td>...</td>\n",
       "      <td>...</td>\n",
       "      <td>...</td>\n",
       "      <td>...</td>\n",
       "      <td>...</td>\n",
       "      <td>...</td>\n",
       "      <td>...</td>\n",
       "      <td>...</td>\n",
       "      <td>...</td>\n",
       "      <td>...</td>\n",
       "      <td>...</td>\n",
       "      <td>...</td>\n",
       "      <td>...</td>\n",
       "      <td>...</td>\n",
       "      <td>...</td>\n",
       "      <td>...</td>\n",
       "      <td>...</td>\n",
       "      <td>...</td>\n",
       "      <td>...</td>\n",
       "      <td>...</td>\n",
       "    </tr>\n",
       "    <tr>\n",
       "      <th>72311</th>\n",
       "      <td>2</td>\n",
       "      <td>10/03/2016 00:00</td>\n",
       "      <td>14:11:00</td>\n",
       "      <td>11/03/2016 00:00</td>\n",
       "      <td>14:03:00</td>\n",
       "      <td>1</td>\n",
       "      <td>0.35</td>\n",
       "      <td>-73.993813</td>\n",
       "      <td>40.751621</td>\n",
       "      <td>1</td>\n",
       "      <td>...</td>\n",
       "      <td>2016-03-11</td>\n",
       "      <td>POINT (-73.99381256 40.75162125)</td>\n",
       "      <td>Manhattan</td>\n",
       "      <td>Cash</td>\n",
       "      <td>14</td>\n",
       "      <td>11</td>\n",
       "      <td>3</td>\n",
       "      <td>-8</td>\n",
       "      <td>11</td>\n",
       "      <td>3</td>\n",
       "    </tr>\n",
       "    <tr>\n",
       "      <th>73637</th>\n",
       "      <td>2</td>\n",
       "      <td>10/03/2016 00:00</td>\n",
       "      <td>14:22:00</td>\n",
       "      <td>11/03/2016 00:00</td>\n",
       "      <td>14:19:00</td>\n",
       "      <td>1</td>\n",
       "      <td>0.87</td>\n",
       "      <td>-73.954041</td>\n",
       "      <td>40.770580</td>\n",
       "      <td>1</td>\n",
       "      <td>...</td>\n",
       "      <td>2016-03-11</td>\n",
       "      <td>POINT (-73.95404053 40.77058029)</td>\n",
       "      <td>Manhattan</td>\n",
       "      <td>Cash</td>\n",
       "      <td>14</td>\n",
       "      <td>22</td>\n",
       "      <td>19</td>\n",
       "      <td>-3</td>\n",
       "      <td>22</td>\n",
       "      <td>19</td>\n",
       "    </tr>\n",
       "    <tr>\n",
       "      <th>73653</th>\n",
       "      <td>2</td>\n",
       "      <td>10/03/2016 00:00</td>\n",
       "      <td>14:22:00</td>\n",
       "      <td>11/03/2016 00:00</td>\n",
       "      <td>00:00:00</td>\n",
       "      <td>1</td>\n",
       "      <td>2.68</td>\n",
       "      <td>-73.978867</td>\n",
       "      <td>40.765129</td>\n",
       "      <td>1</td>\n",
       "      <td>...</td>\n",
       "      <td>2016-03-11</td>\n",
       "      <td>POINT (-73.97886658 40.76512909)</td>\n",
       "      <td>Manhattan</td>\n",
       "      <td>Cash</td>\n",
       "      <td>14</td>\n",
       "      <td>22</td>\n",
       "      <td>0</td>\n",
       "      <td>-22</td>\n",
       "      <td>22</td>\n",
       "      <td>0</td>\n",
       "    </tr>\n",
       "    <tr>\n",
       "      <th>74095</th>\n",
       "      <td>2</td>\n",
       "      <td>10/03/2016 00:00</td>\n",
       "      <td>14:25:00</td>\n",
       "      <td>11/03/2016 00:00</td>\n",
       "      <td>00:00:00</td>\n",
       "      <td>6</td>\n",
       "      <td>0.94</td>\n",
       "      <td>-73.971878</td>\n",
       "      <td>40.794392</td>\n",
       "      <td>1</td>\n",
       "      <td>...</td>\n",
       "      <td>2016-03-11</td>\n",
       "      <td>POINT (-73.97187805 40.79439163)</td>\n",
       "      <td>Manhattan</td>\n",
       "      <td>Card</td>\n",
       "      <td>14</td>\n",
       "      <td>25</td>\n",
       "      <td>0</td>\n",
       "      <td>-25</td>\n",
       "      <td>25</td>\n",
       "      <td>0</td>\n",
       "    </tr>\n",
       "    <tr>\n",
       "      <th>74482</th>\n",
       "      <td>2</td>\n",
       "      <td>01/03/2016 00:00</td>\n",
       "      <td>06:16:00</td>\n",
       "      <td>02/03/2016 00:00</td>\n",
       "      <td>06:14:00</td>\n",
       "      <td>1</td>\n",
       "      <td>2.04</td>\n",
       "      <td>-73.990753</td>\n",
       "      <td>40.758060</td>\n",
       "      <td>1</td>\n",
       "      <td>...</td>\n",
       "      <td>2016-03-02</td>\n",
       "      <td>POINT (-73.99075317 40.75806046)</td>\n",
       "      <td>Manhattan</td>\n",
       "      <td>Cash</td>\n",
       "      <td>6</td>\n",
       "      <td>16</td>\n",
       "      <td>14</td>\n",
       "      <td>-2</td>\n",
       "      <td>16</td>\n",
       "      <td>14</td>\n",
       "    </tr>\n",
       "  </tbody>\n",
       "</table>\n",
       "<p>11656 rows × 36 columns</p>\n",
       "</div>"
      ],
      "text/plain": [
       "       VendorID       pickup_date pickup_time      dropoff_date dropoff_time  \\\n",
       "1686          2  10/03/2016 00:00    07:19:00  11/03/2016 00:00     07:10:00   \n",
       "1794          2  10/03/2016 00:00    07:20:00  11/03/2016 00:00     00:00:00   \n",
       "3458          2  10/03/2016 00:00    07:33:00  11/03/2016 00:00     00:00:00   \n",
       "4084          2  10/03/2016 00:00    07:37:00  11/03/2016 00:00     07:24:00   \n",
       "4199          2  10/03/2016 00:00    07:38:00  10/03/2016 00:00     08:00:00   \n",
       "...         ...               ...         ...               ...          ...   \n",
       "72311         2  10/03/2016 00:00    14:11:00  11/03/2016 00:00     14:03:00   \n",
       "73637         2  10/03/2016 00:00    14:22:00  11/03/2016 00:00     14:19:00   \n",
       "73653         2  10/03/2016 00:00    14:22:00  11/03/2016 00:00     00:00:00   \n",
       "74095         2  10/03/2016 00:00    14:25:00  11/03/2016 00:00     00:00:00   \n",
       "74482         2  01/03/2016 00:00    06:16:00  02/03/2016 00:00     06:14:00   \n",
       "\n",
       "       passenger_count  trip_distance  pickup_longitude  pickup_latitude  \\\n",
       "1686                 6           2.30        -73.986877        40.766460   \n",
       "1794                 3           0.86        -73.986481        40.768490   \n",
       "3458                 2           0.97        -73.951736        40.773666   \n",
       "4084                 1           2.14        -74.015221        40.709358   \n",
       "4199                 1           2.31        -73.939613        40.751629   \n",
       "...                ...            ...               ...              ...   \n",
       "72311                1           0.35        -73.993813        40.751621   \n",
       "73637                1           0.87        -73.954041        40.770580   \n",
       "73653                1           2.68        -73.978867        40.765129   \n",
       "74095                6           0.94        -73.971878        40.794392   \n",
       "74482                1           2.04        -73.990753        40.758060   \n",
       "\n",
       "       RatecodeID  ... dropoff_date_new                          geometry  \\\n",
       "1686            1  ...       2016-03-11  POINT (-73.98687744 40.76646042)   \n",
       "1794            1  ...       2016-03-11  POINT (-73.98648071 40.76848984)   \n",
       "3458            1  ...       2016-03-11  POINT (-73.95173645 40.77366638)   \n",
       "4084            1  ...       2016-03-11  POINT (-74.01522064 40.70935822)   \n",
       "4199            1  ...       2016-03-10  POINT (-73.93961334 40.75162888)   \n",
       "...           ...  ...              ...                               ...   \n",
       "72311           1  ...       2016-03-11  POINT (-73.99381256 40.75162125)   \n",
       "73637           1  ...       2016-03-11  POINT (-73.95404053 40.77058029)   \n",
       "73653           1  ...       2016-03-11  POINT (-73.97886658 40.76512909)   \n",
       "74095           1  ...       2016-03-11  POINT (-73.97187805 40.79439163)   \n",
       "74482           1  ...       2016-03-02  POINT (-73.99075317 40.75806046)   \n",
       "\n",
       "       Borough_name  payment_category  pickup hour  pickup time  dropoff time  \\\n",
       "1686      Manhattan              Card            7           19            10   \n",
       "1794      Manhattan              Card            7           20             0   \n",
       "3458      Manhattan              Card            7           33             0   \n",
       "4084      Manhattan              Card            7           37            24   \n",
       "4199         Queens              Card            7           38             0   \n",
       "...             ...               ...          ...          ...           ...   \n",
       "72311     Manhattan              Cash           14           11             3   \n",
       "73637     Manhattan              Cash           14           22            19   \n",
       "73653     Manhattan              Cash           14           22             0   \n",
       "74095     Manhattan              Card           14           25             0   \n",
       "74482     Manhattan              Cash            6           16            14   \n",
       "\n",
       "       time trip  pickup  dropoff  \n",
       "1686          -9      19       10  \n",
       "1794         -20      20        0  \n",
       "3458         -33      33        0  \n",
       "4084         -13      37       24  \n",
       "4199         -38      38        0  \n",
       "...          ...     ...      ...  \n",
       "72311         -8      11        3  \n",
       "73637         -3      22       19  \n",
       "73653        -22      22        0  \n",
       "74095        -25      25        0  \n",
       "74482         -2      16       14  \n",
       "\n",
       "[11656 rows x 36 columns]"
      ]
     },
     "execution_count": 55,
     "metadata": {},
     "output_type": "execute_result"
    }
   ],
   "source": [
    "df.loc[df['time trip'] < 0]"
   ]
  },
  {
   "cell_type": "code",
   "execution_count": 56,
   "id": "f56605b3",
   "metadata": {},
   "outputs": [],
   "source": [
    "# Replacing  negative outliers with the mean. \n",
    "df.loc[df['time trip'] < 0, 'time trip'] = np.nan"
   ]
  },
  {
   "cell_type": "code",
   "execution_count": 57,
   "id": "a1f1fcf4",
   "metadata": {},
   "outputs": [],
   "source": [
    "# Negative outliers solved => same operation repeated for all columns just named above.\n",
    "df['time trip'].fillna((df['time trip'].median()), inplace=True)"
   ]
  },
  {
   "cell_type": "code",
   "execution_count": 58,
   "id": "2772578e",
   "metadata": {},
   "outputs": [
    {
     "data": {
      "text/plain": [
       "count    74551.000000\n",
       "mean         9.210125\n",
       "std          4.595512\n",
       "min          0.000000\n",
       "25%          6.000000\n",
       "50%          9.000000\n",
       "75%         12.000000\n",
       "max         58.000000\n",
       "Name: time trip, dtype: float64"
      ]
     },
     "execution_count": 58,
     "metadata": {},
     "output_type": "execute_result"
    }
   ],
   "source": [
    "df['time trip'].describe()"
   ]
  },
  {
   "cell_type": "code",
   "execution_count": 59,
   "id": "1b0a03b9",
   "metadata": {},
   "outputs": [],
   "source": [
    "# Exporting 'df' to csv\n",
    "df.to_csv(os.path.join(path, '2-Data','Prepared Data', 'uber_usd15_timetrips.csv'), index=False)"
   ]
  },
  {
   "cell_type": "code",
   "execution_count": null,
   "id": "d0f9655e",
   "metadata": {},
   "outputs": [],
   "source": []
  }
 ],
 "metadata": {
  "kernelspec": {
   "display_name": "Python 3 (ipykernel)",
   "language": "python",
   "name": "python3"
  },
  "language_info": {
   "codemirror_mode": {
    "name": "ipython",
    "version": 3
   },
   "file_extension": ".py",
   "mimetype": "text/x-python",
   "name": "python",
   "nbconvert_exporter": "python",
   "pygments_lexer": "ipython3",
   "version": "3.11.5"
  }
 },
 "nbformat": 4,
 "nbformat_minor": 5
}
